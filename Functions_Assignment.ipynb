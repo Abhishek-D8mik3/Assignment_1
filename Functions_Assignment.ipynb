{
  "nbformat": 4,
  "nbformat_minor": 0,
  "metadata": {
    "colab": {
      "provenance": []
    },
    "kernelspec": {
      "name": "python3",
      "display_name": "Python 3"
    },
    "language_info": {
      "name": "python"
    }
  },
  "cells": [
    {
      "cell_type": "code",
      "execution_count": 9,
      "metadata": {
        "id": "MhdLOaiX1RNv"
      },
      "outputs": [],
      "source": [
        "# Write a Python function that takes a list of numbers as input and returns the sum of all even numbers in the list.\n",
        "\n",
        "def sum_even(num):\n",
        "  sum_1=0\n",
        "  for i in num:\n",
        "    if i%2==0:\n",
        "       sum_1+= i\n",
        "  return sum_1"
      ]
    },
    {
      "cell_type": "code",
      "source": [
        "num=[1,2,3,4,5,6]\n",
        "sum_even(num)"
      ],
      "metadata": {
        "colab": {
          "base_uri": "https://localhost:8080/"
        },
        "id": "XKLmqW9w1Px4",
        "outputId": "1d6bead9-6663-4da9-9faa-c3ffc6605e99"
      },
      "execution_count": 10,
      "outputs": [
        {
          "output_type": "execute_result",
          "data": {
            "text/plain": [
              "12"
            ]
          },
          "metadata": {},
          "execution_count": 10
        }
      ]
    },
    {
      "cell_type": "code",
      "source": [
        "# Create a Python function that accepts a string and returns the reverse of that string.\n",
        "\n",
        "def rev_str(string):\n",
        "  reversed_string= string[ :: -1]\n",
        "  return reversed_string"
      ],
      "metadata": {
        "id": "MsN7heAf18SK"
      },
      "execution_count": 11,
      "outputs": []
    },
    {
      "cell_type": "code",
      "source": [
        "rev_str(\"Logic\")"
      ],
      "metadata": {
        "colab": {
          "base_uri": "https://localhost:8080/",
          "height": 36
        },
        "id": "32UXpnAW-HdR",
        "outputId": "4f934533-9df5-41a3-af9c-b5ddb289e5c1"
      },
      "execution_count": 13,
      "outputs": [
        {
          "output_type": "execute_result",
          "data": {
            "text/plain": [
              "'cigoL'"
            ],
            "application/vnd.google.colaboratory.intrinsic+json": {
              "type": "string"
            }
          },
          "metadata": {},
          "execution_count": 13
        }
      ]
    },
    {
      "cell_type": "code",
      "source": [
        "# Implement a Python function that takes a list of integers and returns a new list containing the squares of each number.\n",
        "\n",
        "def square(n):\n",
        "  result = []\n",
        "  for i in n:\n",
        "    result.append(i**2)\n",
        "  return result\n"
      ],
      "metadata": {
        "id": "5RWndVJ1-NB1"
      },
      "execution_count": 29,
      "outputs": []
    },
    {
      "cell_type": "code",
      "source": [
        "num =[1,2,3,4,5]\n",
        "square(num)"
      ],
      "metadata": {
        "colab": {
          "base_uri": "https://localhost:8080/"
        },
        "id": "WHWuFdlp-tTe",
        "outputId": "25ccf17b-bf22-4239-d0a5-0f607ff09bb4"
      },
      "execution_count": 32,
      "outputs": [
        {
          "output_type": "execute_result",
          "data": {
            "text/plain": [
              "[1, 4, 9, 16, 25]"
            ]
          },
          "metadata": {},
          "execution_count": 32
        }
      ]
    },
    {
      "cell_type": "code",
      "source": [
        "# Write a Python function that checks if a given number is prime or not from 1 to 200\n",
        "\n",
        "def is_prime(n):\n",
        "    if n <= 1:\n",
        "        return False\n",
        "    for i in range(2, n):\n",
        "        if n % i == 0:\n",
        "            return False\n",
        "    return True\n",
        "\n",
        "for num in range(1, 201):\n",
        "    if is_prime(num):\n",
        "        print(num, \"is a prime number\")\n",
        "    else:\n",
        "        print(num,\"is not a prime number\")\n",
        ""
      ],
      "metadata": {
        "colab": {
          "base_uri": "https://localhost:8080/"
        },
        "id": "zF6E2iowAHca",
        "outputId": "7d5fe0b0-b067-4f0f-de88-1cc8cc4bae1b"
      },
      "execution_count": 33,
      "outputs": [
        {
          "output_type": "stream",
          "name": "stdout",
          "text": [
            "1 is not a prime number\n",
            "2 is a prime number\n",
            "3 is a prime number\n",
            "4 is not a prime number\n",
            "5 is a prime number\n",
            "6 is not a prime number\n",
            "7 is a prime number\n",
            "8 is not a prime number\n",
            "9 is not a prime number\n",
            "10 is not a prime number\n",
            "11 is a prime number\n",
            "12 is not a prime number\n",
            "13 is a prime number\n",
            "14 is not a prime number\n",
            "15 is not a prime number\n",
            "16 is not a prime number\n",
            "17 is a prime number\n",
            "18 is not a prime number\n",
            "19 is a prime number\n",
            "20 is not a prime number\n",
            "21 is not a prime number\n",
            "22 is not a prime number\n",
            "23 is a prime number\n",
            "24 is not a prime number\n",
            "25 is not a prime number\n",
            "26 is not a prime number\n",
            "27 is not a prime number\n",
            "28 is not a prime number\n",
            "29 is a prime number\n",
            "30 is not a prime number\n",
            "31 is a prime number\n",
            "32 is not a prime number\n",
            "33 is not a prime number\n",
            "34 is not a prime number\n",
            "35 is not a prime number\n",
            "36 is not a prime number\n",
            "37 is a prime number\n",
            "38 is not a prime number\n",
            "39 is not a prime number\n",
            "40 is not a prime number\n",
            "41 is a prime number\n",
            "42 is not a prime number\n",
            "43 is a prime number\n",
            "44 is not a prime number\n",
            "45 is not a prime number\n",
            "46 is not a prime number\n",
            "47 is a prime number\n",
            "48 is not a prime number\n",
            "49 is not a prime number\n",
            "50 is not a prime number\n",
            "51 is not a prime number\n",
            "52 is not a prime number\n",
            "53 is a prime number\n",
            "54 is not a prime number\n",
            "55 is not a prime number\n",
            "56 is not a prime number\n",
            "57 is not a prime number\n",
            "58 is not a prime number\n",
            "59 is a prime number\n",
            "60 is not a prime number\n",
            "61 is a prime number\n",
            "62 is not a prime number\n",
            "63 is not a prime number\n",
            "64 is not a prime number\n",
            "65 is not a prime number\n",
            "66 is not a prime number\n",
            "67 is a prime number\n",
            "68 is not a prime number\n",
            "69 is not a prime number\n",
            "70 is not a prime number\n",
            "71 is a prime number\n",
            "72 is not a prime number\n",
            "73 is a prime number\n",
            "74 is not a prime number\n",
            "75 is not a prime number\n",
            "76 is not a prime number\n",
            "77 is not a prime number\n",
            "78 is not a prime number\n",
            "79 is a prime number\n",
            "80 is not a prime number\n",
            "81 is not a prime number\n",
            "82 is not a prime number\n",
            "83 is a prime number\n",
            "84 is not a prime number\n",
            "85 is not a prime number\n",
            "86 is not a prime number\n",
            "87 is not a prime number\n",
            "88 is not a prime number\n",
            "89 is a prime number\n",
            "90 is not a prime number\n",
            "91 is not a prime number\n",
            "92 is not a prime number\n",
            "93 is not a prime number\n",
            "94 is not a prime number\n",
            "95 is not a prime number\n",
            "96 is not a prime number\n",
            "97 is a prime number\n",
            "98 is not a prime number\n",
            "99 is not a prime number\n",
            "100 is not a prime number\n",
            "101 is a prime number\n",
            "102 is not a prime number\n",
            "103 is a prime number\n",
            "104 is not a prime number\n",
            "105 is not a prime number\n",
            "106 is not a prime number\n",
            "107 is a prime number\n",
            "108 is not a prime number\n",
            "109 is a prime number\n",
            "110 is not a prime number\n",
            "111 is not a prime number\n",
            "112 is not a prime number\n",
            "113 is a prime number\n",
            "114 is not a prime number\n",
            "115 is not a prime number\n",
            "116 is not a prime number\n",
            "117 is not a prime number\n",
            "118 is not a prime number\n",
            "119 is not a prime number\n",
            "120 is not a prime number\n",
            "121 is not a prime number\n",
            "122 is not a prime number\n",
            "123 is not a prime number\n",
            "124 is not a prime number\n",
            "125 is not a prime number\n",
            "126 is not a prime number\n",
            "127 is a prime number\n",
            "128 is not a prime number\n",
            "129 is not a prime number\n",
            "130 is not a prime number\n",
            "131 is a prime number\n",
            "132 is not a prime number\n",
            "133 is not a prime number\n",
            "134 is not a prime number\n",
            "135 is not a prime number\n",
            "136 is not a prime number\n",
            "137 is a prime number\n",
            "138 is not a prime number\n",
            "139 is a prime number\n",
            "140 is not a prime number\n",
            "141 is not a prime number\n",
            "142 is not a prime number\n",
            "143 is not a prime number\n",
            "144 is not a prime number\n",
            "145 is not a prime number\n",
            "146 is not a prime number\n",
            "147 is not a prime number\n",
            "148 is not a prime number\n",
            "149 is a prime number\n",
            "150 is not a prime number\n",
            "151 is a prime number\n",
            "152 is not a prime number\n",
            "153 is not a prime number\n",
            "154 is not a prime number\n",
            "155 is not a prime number\n",
            "156 is not a prime number\n",
            "157 is a prime number\n",
            "158 is not a prime number\n",
            "159 is not a prime number\n",
            "160 is not a prime number\n",
            "161 is not a prime number\n",
            "162 is not a prime number\n",
            "163 is a prime number\n",
            "164 is not a prime number\n",
            "165 is not a prime number\n",
            "166 is not a prime number\n",
            "167 is a prime number\n",
            "168 is not a prime number\n",
            "169 is not a prime number\n",
            "170 is not a prime number\n",
            "171 is not a prime number\n",
            "172 is not a prime number\n",
            "173 is a prime number\n",
            "174 is not a prime number\n",
            "175 is not a prime number\n",
            "176 is not a prime number\n",
            "177 is not a prime number\n",
            "178 is not a prime number\n",
            "179 is a prime number\n",
            "180 is not a prime number\n",
            "181 is a prime number\n",
            "182 is not a prime number\n",
            "183 is not a prime number\n",
            "184 is not a prime number\n",
            "185 is not a prime number\n",
            "186 is not a prime number\n",
            "187 is not a prime number\n",
            "188 is not a prime number\n",
            "189 is not a prime number\n",
            "190 is not a prime number\n",
            "191 is a prime number\n",
            "192 is not a prime number\n",
            "193 is a prime number\n",
            "194 is not a prime number\n",
            "195 is not a prime number\n",
            "196 is not a prime number\n",
            "197 is a prime number\n",
            "198 is not a prime number\n",
            "199 is a prime number\n",
            "200 is not a prime number\n"
          ]
        }
      ]
    },
    {
      "cell_type": "code",
      "source": [
        "#Create an iterator class in Python that generates the Fibonacci sequence up to a specified number of terms.\n",
        "\n",
        "def fib(n):\n",
        "    if n <= 1:\n",
        "        return n\n",
        "    else:\n",
        "        return fib(n - 1) + fib(n - 2)\n"
      ],
      "metadata": {
        "id": "lrXHqIsyBODd"
      },
      "execution_count": 35,
      "outputs": []
    },
    {
      "cell_type": "code",
      "source": [
        "fibonacci_sequence = [fib(i) for i in range(10)]\n",
        "print(fibonacci_sequence)"
      ],
      "metadata": {
        "colab": {
          "base_uri": "https://localhost:8080/"
        },
        "id": "GIAgoUTgEdJ9",
        "outputId": "4da86dd6-9e30-4a7d-dbf6-0e517cda0f56"
      },
      "execution_count": 36,
      "outputs": [
        {
          "output_type": "stream",
          "name": "stdout",
          "text": [
            "[0, 1, 1, 2, 3, 5, 8, 13, 21, 34]\n"
          ]
        }
      ]
    },
    {
      "cell_type": "code",
      "source": [
        "# Write a generator function in Python that yields the powers of 2 up to a given exponent\n",
        "\n",
        "def power_of_two(max_exponent):\n",
        "  for i in range(max_exponent+1):\n",
        "    yield 2 ** i"
      ],
      "metadata": {
        "id": "5kiPXApWEimZ"
      },
      "execution_count": 42,
      "outputs": []
    },
    {
      "cell_type": "code",
      "source": [
        "for power in power_of_two(6):\n",
        "  print(power)"
      ],
      "metadata": {
        "colab": {
          "base_uri": "https://localhost:8080/"
        },
        "id": "zxdtw7T3OvV2",
        "outputId": "05ab50ce-ebb9-47cc-9a77-edfed0232587"
      },
      "execution_count": 43,
      "outputs": [
        {
          "output_type": "stream",
          "name": "stdout",
          "text": [
            "1\n",
            "2\n",
            "4\n",
            "8\n",
            "16\n",
            "32\n",
            "64\n"
          ]
        }
      ]
    },
    {
      "cell_type": "code",
      "source": [
        "# Implement a generator function that reads a file line by line and yields each line as a string\n",
        "\n",
        "\n",
        "def read_file_line_by_line(file_path):\n",
        "    file = open(file_path, 'r')  # Open the file in read mode\n",
        "    for line in file:  # Iterate over each line in the file\n",
        "        yield line.strip()  # Yield the line after stripping whitespace\n",
        "    file.close()  # Close the file after reading all lines\n",
        "\n",
        "# Example usage:\n",
        "file_path = 'example.txt'  # Replace with your file path\n",
        "for line in read_file_line_by_line(file_path):\n",
        "    print(line)\n"
      ],
      "metadata": {
        "colab": {
          "base_uri": "https://localhost:8080/",
          "height": 315
        },
        "id": "dY7nyxMCPF79",
        "outputId": "c49842a7-b891-432d-efac-16230457b4ad"
      },
      "execution_count": 47,
      "outputs": [
        {
          "output_type": "error",
          "ename": "FileNotFoundError",
          "evalue": "[Errno 2] No such file or directory: 'example.txt'",
          "traceback": [
            "\u001b[0;31m---------------------------------------------------------------------------\u001b[0m",
            "\u001b[0;31mFileNotFoundError\u001b[0m                         Traceback (most recent call last)",
            "\u001b[0;32m<ipython-input-47-2c77420e0ae1>\u001b[0m in \u001b[0;36m<cell line: 12>\u001b[0;34m()\u001b[0m\n\u001b[1;32m     10\u001b[0m \u001b[0;31m# Example usage:\u001b[0m\u001b[0;34m\u001b[0m\u001b[0;34m\u001b[0m\u001b[0m\n\u001b[1;32m     11\u001b[0m \u001b[0mfile_path\u001b[0m \u001b[0;34m=\u001b[0m \u001b[0;34m'example.txt'\u001b[0m  \u001b[0;31m# Replace with your file path\u001b[0m\u001b[0;34m\u001b[0m\u001b[0;34m\u001b[0m\u001b[0m\n\u001b[0;32m---> 12\u001b[0;31m \u001b[0;32mfor\u001b[0m \u001b[0mline\u001b[0m \u001b[0;32min\u001b[0m \u001b[0mread_file_line_by_line\u001b[0m\u001b[0;34m(\u001b[0m\u001b[0mfile_path\u001b[0m\u001b[0;34m)\u001b[0m\u001b[0;34m:\u001b[0m\u001b[0;34m\u001b[0m\u001b[0;34m\u001b[0m\u001b[0m\n\u001b[0m\u001b[1;32m     13\u001b[0m     \u001b[0mprint\u001b[0m\u001b[0;34m(\u001b[0m\u001b[0mline\u001b[0m\u001b[0;34m)\u001b[0m\u001b[0;34m\u001b[0m\u001b[0;34m\u001b[0m\u001b[0m\n",
            "\u001b[0;32m<ipython-input-47-2c77420e0ae1>\u001b[0m in \u001b[0;36mread_file_line_by_line\u001b[0;34m(file_path)\u001b[0m\n\u001b[1;32m      3\u001b[0m \u001b[0;34m\u001b[0m\u001b[0m\n\u001b[1;32m      4\u001b[0m \u001b[0;32mdef\u001b[0m \u001b[0mread_file_line_by_line\u001b[0m\u001b[0;34m(\u001b[0m\u001b[0mfile_path\u001b[0m\u001b[0;34m)\u001b[0m\u001b[0;34m:\u001b[0m\u001b[0;34m\u001b[0m\u001b[0;34m\u001b[0m\u001b[0m\n\u001b[0;32m----> 5\u001b[0;31m     \u001b[0mfile\u001b[0m \u001b[0;34m=\u001b[0m \u001b[0mopen\u001b[0m\u001b[0;34m(\u001b[0m\u001b[0mfile_path\u001b[0m\u001b[0;34m,\u001b[0m \u001b[0;34m'r'\u001b[0m\u001b[0;34m)\u001b[0m  \u001b[0;31m# Open the file in read mode\u001b[0m\u001b[0;34m\u001b[0m\u001b[0;34m\u001b[0m\u001b[0m\n\u001b[0m\u001b[1;32m      6\u001b[0m     \u001b[0;32mfor\u001b[0m \u001b[0mline\u001b[0m \u001b[0;32min\u001b[0m \u001b[0mfile\u001b[0m\u001b[0;34m:\u001b[0m  \u001b[0;31m# Iterate over each line in the file\u001b[0m\u001b[0;34m\u001b[0m\u001b[0;34m\u001b[0m\u001b[0m\n\u001b[1;32m      7\u001b[0m         \u001b[0;32myield\u001b[0m \u001b[0mline\u001b[0m\u001b[0;34m.\u001b[0m\u001b[0mstrip\u001b[0m\u001b[0;34m(\u001b[0m\u001b[0;34m)\u001b[0m  \u001b[0;31m# Yield the line after stripping whitespace\u001b[0m\u001b[0;34m\u001b[0m\u001b[0;34m\u001b[0m\u001b[0m\n",
            "\u001b[0;31mFileNotFoundError\u001b[0m: [Errno 2] No such file or directory: 'example.txt'"
          ]
        }
      ]
    },
    {
      "cell_type": "code",
      "source": [
        "#Use a lambda function in Python to sort a list of tuples based on the second element of each tuple.\n",
        "\n",
        "tuples_list = [(1, 3), (2, 1), (3, 2), (4, 4)]\n",
        "sorted_tuples = sorted(tuples_list, key=lambda x: x[1])\n",
        "print(sorted_tuples)"
      ],
      "metadata": {
        "colab": {
          "base_uri": "https://localhost:8080/"
        },
        "id": "7iwaxEa7QMLo",
        "outputId": "e56d584b-e474-4ee9-bd44-0c1b5efd6384"
      },
      "execution_count": 48,
      "outputs": [
        {
          "output_type": "stream",
          "name": "stdout",
          "text": [
            "[(2, 1), (3, 2), (1, 3), (4, 4)]\n"
          ]
        }
      ]
    },
    {
      "cell_type": "code",
      "source": [
        "#Write a Python program that uses `map()` to convert a list of temperatures from Celsius to Fahrenheit.\n",
        "\n",
        "celsius = [0, 20, 37, 100]\n",
        "\n",
        "def cel_far(c):\n",
        "  return (9/5)*c +32\n",
        "\n",
        "far= list(map(cel_far, celsius))\n",
        "print(far)"
      ],
      "metadata": {
        "colab": {
          "base_uri": "https://localhost:8080/"
        },
        "id": "nGLPaw7GR2BC",
        "outputId": "95dd0424-6a11-4ca0-a74d-8b16a860be05"
      },
      "execution_count": 50,
      "outputs": [
        {
          "output_type": "stream",
          "name": "stdout",
          "text": [
            "[32.0, 68.0, 98.60000000000001, 212.0]\n"
          ]
        }
      ]
    },
    {
      "cell_type": "code",
      "source": [
        "# Create a Python program that uses `filter()` to remove all the vowels from a given string.\n",
        "\n",
        "def is_not_vowel(char):\n",
        "  return char.lower() not in 'aeiou'\n",
        "\n",
        "input_string = \"logic is better\"\n",
        "\n",
        "list(filter(is_not_vowel, input_string))"
      ],
      "metadata": {
        "colab": {
          "base_uri": "https://localhost:8080/"
        },
        "id": "oMrTsNfGS7Ai",
        "outputId": "dd1e7de6-ab05-46c5-ef98-524b870b0c98"
      },
      "execution_count": 51,
      "outputs": [
        {
          "output_type": "execute_result",
          "data": {
            "text/plain": [
              "['l', 'g', 'c', ' ', 's', ' ', 'b', 't', 't', 'r']"
            ]
          },
          "metadata": {},
          "execution_count": 51
        }
      ]
    },
    {
      "cell_type": "code",
      "source": [
        "#11\n",
        "\n",
        "\n",
        "orders = [\n",
        "    {\"order_number\": 34587, \"price\": 40.95, \"quantity\": 4},\n",
        "    {\"order_number\": 98762, \"price\": 56.80, \"quantity\": 5},\n",
        "    {\"order_number\": 77226, \"price\": 32.95, \"quantity\": 3},\n",
        "    {\"order_number\": 88112, \"price\": 24.99, \"quantity\": 3},\n",
        "]\n",
        "\n",
        "\n",
        "def calculate_order_value(order):\n",
        "    total_cost = order[\"price\"] * order[\"quantity\"]\n",
        "    if total_cost < 100:\n",
        "        total_cost += 10\n",
        "    return (order[\"order_number\"], total_cost)\n",
        "\n",
        "\n",
        "order_values = list(map(lambda order: calculate_order_value(order), orders))\n",
        "\n",
        "\n",
        "print(order_values)\n"
      ],
      "metadata": {
        "colab": {
          "base_uri": "https://localhost:8080/"
        },
        "id": "ox_QM8XnUCjJ",
        "outputId": "3e73e32d-5880-46ae-e0e2-d795dbb03503"
      },
      "execution_count": 53,
      "outputs": [
        {
          "output_type": "stream",
          "name": "stdout",
          "text": [
            "[(34587, 163.8), (98762, 284.0), (77226, 108.85000000000001), (88112, 84.97)]\n"
          ]
        }
      ]
    },
    {
      "cell_type": "code",
      "source": [
        "# What is the difference between a function and a method in Python?\n",
        "\n",
        "#A function is a block of code that does a specific task.\n",
        "#You define a function using the def keyword, and you can call it anytime you want.\n",
        "#Functions can take inputs (called parameters) and return outputs (results).\n",
        "\n",
        "def add(a, b):\n",
        "    return a + b\n",
        "\n",
        "result = add(5, 3)\n",
        "\n",
        "\n",
        "#A method is like a function, but it belongs to an object (an instance of a class).\n",
        "#You define a method inside a class, and you call it on an object of that class.\n",
        "#Methods can use and change the data (attributes) of the object they belong to.\n",
        "\n",
        "class Calculator:\n",
        "    def add(self, a, b):\n",
        "        return a + b\n",
        "\n",
        "calc = Calculator()\n",
        "\n",
        "result = calc.add(5, 3)\n"
      ],
      "metadata": {
        "id": "FStWf52eVe7W"
      },
      "execution_count": null,
      "outputs": []
    },
    {
      "cell_type": "code",
      "source": [
        "#Explain the concept of function arguments and parameters in Python.\n",
        "\n",
        "#Parameters are like placeholders in a function definition. They are the names you give to the inputs the function can accept. You define parameters when you create a function.\n",
        "\n",
        "def greet(name):  # 'name' is a parameter\n",
        "    print(\"Hello, \" + name + \"!\")\n",
        "\n",
        "#Arguments are the actual values you pass to the function when you call it. They replace the parameters when the function runs.\n",
        "\n",
        "greet(\"Alice\")  # \"Alice\" is the argument\n",
        "\n",
        "\n"
      ],
      "metadata": {
        "id": "EqOULh6vWlHV"
      },
      "execution_count": null,
      "outputs": []
    },
    {
      "cell_type": "code",
      "source": [
        "# What are the different ways to define and call a function in Python?\n",
        "\n",
        "#1. Basic Function Definition and Call\n",
        "#Define: Use def followed by the function name and parentheses with parameters.\n",
        "#Call: Use the function name followed by parentheses with arguments.\n",
        "\n",
        "def greet(name):  # Function definition\n",
        "    print(\"Hello, \" + name + \"!\")\n",
        "\n",
        "greet(\"Alice\")  # Function call\n",
        "\n",
        "\n",
        "#2. Function Without Parameters\n",
        "#You can define a function that doesn’t take any parameters.\n",
        "\n",
        "def say_hello():\n",
        "    print(\"Hello!\")\n",
        "\n",
        "say_hello()  # Calling the function\n",
        "\n",
        "#3. Function with Multiple Parameters\n",
        "#You can define a function that takes more than one parameter.\n",
        "\n",
        "def add(a, b):\n",
        "    return a + b\n",
        "\n",
        "result = add(3, 5)  # Calling the function with arguments\n",
        "print(result)  # Output: 8\n",
        "\n",
        "\n",
        "#4. Function with Default Parameters\n",
        "#You can set default values for parameters. If you don’t provide an argument, the default value is used.\n",
        "\n",
        "def greet(name=\"Guest\"):\n",
        "    print(\"Hello, \" + name + \"!\")\n",
        "\n",
        "greet()  # Calls with default parameter\n",
        "greet(\"Bob\")  # Calls with provided argument\n",
        "\n",
        "\n",
        "#5 5. Function with Variable Number of Arguments\n",
        "#You can use *args to allow a function to take any number of positional arguments.\n",
        "\n",
        "def print_numbers(*args):\n",
        "    for number in args:\n",
        "        print(number)\n",
        "\n",
        "print_numbers(1, 2, 3)  # Can take multiple arguments\n",
        "\n"
      ],
      "metadata": {
        "id": "xmK-ZwRZXYz7"
      },
      "execution_count": null,
      "outputs": []
    },
    {
      "cell_type": "code",
      "source": [
        "# What is the purpose of the `return` statement in a Python function?\n",
        "\n",
        "#The return statement in a Python function is used to send a value back to the caller of the function. Here’s a simple breakdown of its purpose:\n",
        "#Purpose of the return Statement\n",
        "\n",
        "#Send Back a Value:\n",
        "#When a function completes its task, the return statement allows it to send a result back to where the function was called.\n",
        "\n",
        "#End Function Execution:\n",
        "#The return statement also immediately stops the execution of the function. Any code after the return statement will not run.\n",
        "\n",
        "#Optional:\n",
        "#A function can have a return statement, but it’s not required. If there’s no return, the function will return None by default.\n",
        "\n",
        "def add(a, b):\n",
        "    result = a + b  # Calculate the sum\n",
        "    return result    # Send the result back\n",
        "\n",
        "sum_value = add(3, 5)  # Call the function and store the result\n",
        "print(sum_value)       # Output: 8\n"
      ],
      "metadata": {
        "id": "SVhHk9dfYEa0"
      },
      "execution_count": null,
      "outputs": []
    },
    {
      "cell_type": "code",
      "source": [
        "#What are iterators in Python and how do they differ from iterables?\n",
        "\n",
        "#An iterable is any Python object that can be looped over (iterated) using a for loop.\n",
        "#Common examples of iterables include lists, tuples, dictionaries, and strings.\n",
        "#You can get an iterator from an iterable using the iter() function.\n",
        "\n",
        "my_list = [1, 2, 3]\n",
        "for item in my_list:  # my_list is iterable\n",
        "    print(item)\n",
        "\n",
        "#An iterator is an object that represents a stream of data. It allows you to traverse through the elements of an iterable one at a time.\n",
        "#Iterators have two main methods:\n",
        "_#_iter__(): Returns the iterator object itself.\n",
        "__#next__(): Returns the next value from the iterator. When there are no more values to return, it raises a StopIteration exception.\n",
        "\n",
        "my_list = [1, 2, 3]\n",
        "my_iterator = iter(my_list)  # Get an iterator from the iterable\n",
        "\n",
        "print(next(my_iterator))  # Output: 1\n",
        "print(next(my_iterator))  # Output: 2\n",
        "print(next(my_iterator))  # Output: 3\n",
        "# print(next(my_iterator))  # This would raise a StopIteration exception\n",
        "\n",
        "\n",
        "#Key Differences\n",
        "#Definition:\n",
        "\n",
        "#Iterable: An object that can be iterated over (e.g., lists, strings).\n",
        "#Iterator: An object that keeps track of the current position during iteration and allows you to fetch elements one at a time.\n",
        "\n",
        "#Creation:\n",
        "\n",
        "#Iterable: Created by defining a data structure (like a list).\n",
        "#Iterator: Created from an iterable using the iter() function.\n",
        "\n",
        "#State:\n",
        "\n",
        "#Iterable: Does not keep track of the iteration state.\n",
        "#Iterator: Maintains its state and knows which element comes next.\n",
        "\n",
        "\n"
      ],
      "metadata": {
        "id": "_dM6kfbVYhG7"
      },
      "execution_count": null,
      "outputs": []
    },
    {
      "cell_type": "code",
      "source": [
        "# Explain the concept of generators in Python and how they are defined.\n",
        "\n",
        "\n",
        "#Generators are a special type of iterable that allows you to iterate over a sequence of values. They generate values on the fly and are more memory efficient than regular lists or other iterables because they do not store all the values in memory at once.\n",
        "#How Generators Work\n",
        "#When you call a generator function, it does not execute the code immediately. Instead, it returns a generator object.\n",
        "#The code inside the generator function runs only when you iterate over the generator (e.g., using a for loop or the next() function).\n",
        "#Each time the generator's yield statement is reached, the function pauses and returns the yielded value. The function can be resumed later to continue from where it left off.\n",
        "#Defining a Generator\n",
        "#You define a generator using a function with the yield statement instead of return.\n",
        "\n",
        "def count_up_to(max):\n",
        "    count = 1\n",
        "    while count <= max:\n",
        "        yield count  # Yield the current count\n",
        "        count += 1   # Move to the next number\n",
        "\n",
        "# Creating a generator\n",
        "counter = count_up_to(5)\n",
        "\n",
        "# Iterating over the generator\n",
        "for number in counter:\n",
        "    print(number)\n"
      ],
      "metadata": {
        "id": "RD1NsegXZP_n"
      },
      "execution_count": null,
      "outputs": []
    },
    {
      "cell_type": "code",
      "source": [
        "# Explain the concept of generators in Python and how they are defined.\n",
        "\n",
        "#1. Memory Efficiency\n",
        "#Less Memory Usage: Generators generate values on-the-fly and do not store the entire sequence in memory. This is especially useful when working with large datasets.\n",
        "  #Example: If you need to iterate over a million numbers, a generator will create each number as needed, while a regular function might require storing all numbers in a list.\n",
        "#2. Lazy Evaluation\n",
        "#On-Demand Values: Generators compute values only when requested (lazy evaluation). This can lead to performance improvements, especially if not all values are needed at once.\n",
        "  #Example: In a large loop, if you only need the first few results, a generator can stop generating values once you've received what you need.\n",
        "#3. Simplified Code\n",
        "#Cleaner Syntax: Generators can simplify code by eliminating the need for managing state explicitly, such as using indexes or maintaining separate variables for iteration.\n",
        "  #Example: Instead of creating a complex loop with counters and lists, a generator can be defined simply with yield.\n",
        "#4. Infinite Sequences\n",
        "#Easily Create Infinite Iterators: Generators can be used to create iterators that can generate an infinite number of values without running out of memory.\n",
        "  #Example: A generator can produce an infinite series of numbers (like Fibonacci numbers) without crashing due to memory constraints.\n",
        "#5. Improved Performance\n",
        "#Faster Execution for Large Iterations: Since generators yield results one at a time, they can be faster for certain tasks where processing all results at once isn’t necessary.\n",
        "  #Example: In data processing, you can start working with the first few values while still generating others in the background.\n",
        ""
      ],
      "metadata": {
        "id": "kPoIR2W6Zsb6"
      },
      "execution_count": null,
      "outputs": []
    },
    {
      "cell_type": "code",
      "source": [
        "#. What is a lambda function in Python and when is it typically used?\n",
        "\n",
        "#A lambda function in Python is a small, anonymous function that is defined using the lambda keyword. Here’s a simple breakdown:\n",
        "\n",
        "#Anonymous: It doesn’t have a name (unlike regular functions defined with def).\n",
        "#Single Expression: It can only contain one expression. You cannot use statements or multiple expressions inside a lambda.\n",
        "#Syntax: The basic syntax is:\n",
        "\n",
        "#lambda arguments: expression\n",
        "\n",
        "#Lambda functions are typically used in situations where you need a short function for a short period of time. Common use cases include:\n",
        "#Inline Functions: When you need a function for a single use, like in a map(), filter(), or sorted() call.\n",
        "#Simple Operations: For simple operations that can be expressed in a single line.\n",
        "\n",
        "# Lambda function to add two numbers\n",
        "\n",
        "add = lambda x, y: x + y\n",
        "result = add(3, 5)  # result is 8\n"
      ],
      "metadata": {
        "id": "9OmquNxiaPYQ"
      },
      "execution_count": null,
      "outputs": []
    },
    {
      "cell_type": "code",
      "source": [
        "# Explain the purpose and usage of the `map()` function in Python.\n",
        "\n",
        "#map() is a built-in function that applies a function to each item in a list (or other iterable) and gives you back a new list of results.\n",
        "#Purpose of map()\n",
        "#Change Data: It’s used to change or process all the items in a list without writing a loop.\n",
        "#Save Time: It makes your code shorter and often faster.\n",
        "#How to Use map()\n",
        "#The basic way to use map() is:\n",
        "\n",
        "map(function, iterable)\n",
        "\n",
        "numbers = [1, 2, 3, 4]\n",
        "doubled = map(lambda x: x * 2, numbers)  # Double each number using lambda\n",
        "print(list(doubled))  # Output: [2, 4, 6, 8]\n"
      ],
      "metadata": {
        "id": "gdZA6kk0a63B"
      },
      "execution_count": null,
      "outputs": []
    },
    {
      "cell_type": "code",
      "source": [
        "#What is the difference between `map()`, `reduce()`, and `filter()` functions in Python?\n",
        "\n",
        "#1. map()\n",
        "#Purpose: Transforms each item in a list (or iterable) by applying a function.\n",
        "#Returns: A new list (or map object) with the transformed items.\n",
        "#Example: Doubling each number in a list.\n",
        "\n",
        "numbers = [1, 2, 3]\n",
        "doubled = map(lambda x: x * 2, numbers)  # Output: [2, 4, 6]\n",
        "\n",
        "\n",
        "#2. filter()\n",
        "#Purpose: Filters items in a list (or iterable) by applying a function that returns True or False.\n",
        "#Returns: A new list (or filter object) with only the items that returned True.\n",
        "#Example: Keeping only even numbers from a list.\n",
        "\n",
        "numbers = [1, 2, 3, 4]\n",
        "evens = filter(lambda x: x % 2 == 0, numbers)  # Output: [2, 4]\n",
        "\n",
        "\n",
        "#3. reduce()\n",
        "#Purpose: Reduces a list (or iterable) to a single value by applying a function cumulatively to the items.\n",
        "#Returns: A single value (not a list).\n",
        "#Example: Calculating the sum of all numbers in a list.\n",
        "\n",
        "from functools import reduce\n",
        "\n",
        "numbers = [1, 2, 3]\n",
        "total = reduce(lambda x, y: x + y, numbers)  # Output: 6\n",
        "\n",
        "\n"
      ],
      "metadata": {
        "id": "d8f187V3bWK1"
      },
      "execution_count": null,
      "outputs": []
    },
    {
      "cell_type": "markdown",
      "source": [
        "11. Using pen & Paper write the internal mechanism for sum operation using  reduce function on this given\n",
        "list:[47,11,42,13];\n"
      ],
      "metadata": {
        "id": "E7y8KK3Ob49n"
      }
    },
    {
      "cell_type": "code",
      "source": [],
      "metadata": {
        "id": "UqUNsvCfezK7"
      },
      "execution_count": null,
      "outputs": []
    }
  ]
}