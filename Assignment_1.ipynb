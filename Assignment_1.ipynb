{
 "cells": [
  {
   "cell_type": "code",
   "execution_count": 1,
   "id": "088836fe-188d-449f-a9bd-a20226e3fec5",
   "metadata": {},
   "outputs": [],
   "source": [
    "#2. xplain the key featu$es of Python that take it a popula$ choice fo$ programming?\n",
    "\n",
    "\n",
    "#Readability and Simplicity\n",
    "#Versatility\n",
    "#Extensive Standard Library\n",
    "#Dynamic typing\n",
    "#Large Community Eco Sysytem\n",
    "#Portability\n",
    "#ease of learning\n",
    "#integratoion capabality\n",
    "\n"
   ]
  },
  {
   "cell_type": "code",
   "execution_count": 3,
   "id": "adcdc9be-d081-450c-8846-70a4c2ddaa5f",
   "metadata": {},
   "outputs": [
    {
     "name": "stdout",
     "output_type": "stream",
     "text": [
      "number is even\n"
     ]
    }
   ],
   "source": [
    "#2.  Desc$ibe the $ole of p$edefined keywo$ds in Python and p$ovide exaples of how they a$e used in a program?\n",
    "\n",
    "\n",
    "\n",
    "\n",
    "#pre defined keywords are special meaning words inpython, they are part of core syntax and structure of python\n",
    "#eg: if, else, def, for, in, or, not, and\n",
    "#here are some examples for above answer\n",
    "\n",
    "#if, esle\n",
    "\n",
    "num=22\n",
    "if num%2==0:\n",
    "    print(\"number is even\")\n",
    "else:\n",
    "    print(\"number is odd\")"
   ]
  },
  {
   "cell_type": "code",
   "execution_count": 10,
   "id": "232b5af5-58e5-4e9d-bd4f-f88bb406b0a5",
   "metadata": {},
   "outputs": [
    {
     "name": "stdout",
     "output_type": "stream",
     "text": [
      "[10, 6, 5, 4]\n"
     ]
    }
   ],
   "source": [
    "#3. Co\u0013pa$e and cont$ast \u0013utable and i\u0013\u0013utable ob\f",
    "ects in Python with exaples0?\n",
    "\n",
    "\n",
    "#mutable : objects or elements can be changed or modified the contant without anything new or not changing the result\n",
    "#eg: list, dictonary, sets\n",
    "\n",
    "\n",
    "my_list = [18, 6, 5]\n",
    "my_list.append(4)  \n",
    "my_list[0] = 10    \n",
    "\n",
    "print(my_list)    \n",
    "\n",
    "#immutable: objects or elements cannot be changed or modified once created , any change may result in change in final results\n",
    "# eg:  tupple , string, float\n",
    "\n"
   ]
  },
  {
   "cell_type": "code",
   "execution_count": 11,
   "id": "33c67459-ff07-4616-9e4d-ab933222de24",
   "metadata": {},
   "outputs": [
    {
     "name": "stdout",
     "output_type": "stream",
     "text": [
      "Hello\n",
      "Jello\n"
     ]
    }
   ],
   "source": [
    " # 3b answer :immutable: objects or elements cannot be changed or modified once created , any change may result in change in final results\n",
    "# eg:  tupple , string, float\n",
    "\n",
    "\n",
    "# Creating a string\n",
    "my_string = \"Hello\"\n",
    "new_string = my_string.replace(\"H\", \"J\")\n",
    "\n",
    "print(my_string)  \n",
    "print(new_string)  \n"
   ]
  },
  {
   "cell_type": "code",
   "execution_count": 8,
   "id": "d5ae795b-65d1-48e8-ac6b-c9989355943f",
   "metadata": {},
   "outputs": [],
   "source": [
    "#4 Discuss the diffe$ent types of ope$ato$s in Python and p$ovide exa\u0013ples of how they a$e used0\n",
    "\n",
    "# i. ARTHIMERIC OPERATORS\n",
    "   # addition, substraction, multiplication, division, integer division, modulus, exponents\n",
    "# ii. COMPARASION OPERATOR\n",
    "  # equal to (=)\n",
    "  # not equal to (!=),  greater than(>),  less than(<),  greater than or equal to(>=),   less than or equal to(<=)\n",
    "# iii. logical operator \n",
    "    #  AND  OR   NOT\n",
    "# iv. assignment operator used to assign the values to varialbe   (=) (+=) (-=) (*=) (/+=)\n",
    "# v. bitwise operator : useds / work on binary representation of integer "
   ]
  },
  {
   "cell_type": "code",
   "execution_count": 2,
   "id": "2d4dcbeb-7273-44d0-b857-61885bb24ec2",
   "metadata": {},
   "outputs": [
    {
     "name": "stdout",
     "output_type": "stream",
     "text": [
      "5\n"
     ]
    }
   ],
   "source": [
    "#5  0 +xplain the concept of type casting in Python with exa\u0013ples0?\n",
    "# convrting value from one data type to another is refered to type casting in python\n",
    "\n",
    "float_value = 5.98\n",
    "int_value = int(float_value)\n",
    "print(int_value)"
   ]
  },
  {
   "cell_type": "code",
   "execution_count": 8,
   "id": "245e7a37-5023-4065-8a0e-4dd5c6a5cd0a",
   "metadata": {},
   "outputs": [
    {
     "name": "stdout",
     "output_type": "stream",
     "text": [
      "you can drive\n"
     ]
    }
   ],
   "source": [
    "#  How do conditional state\u0013ents wo$k in Python? Illust$ate with exa\u0013ples0?\n",
    "\n",
    "\n",
    "# conditional statements help in execution of diffrent segment of code on certain condition thehy are helpfull to make dicession in program \n",
    "# common on are if , else , elif\n",
    "#eg: \n",
    "age=20\n",
    "if age>=18:\n",
    "        print(\"you can drive\")\n",
    "else:\n",
    "    print(\"you are not allowed to drive\")"
   ]
  },
  {
   "cell_type": "code",
   "execution_count": 10,
   "id": "48a2b8e7-886d-4af3-9c6d-8e9de5f5eb9b",
   "metadata": {},
   "outputs": [
    {
     "name": "stdout",
     "output_type": "stream",
     "text": [
      "0\n",
      "1\n",
      "2\n",
      "3\n",
      "4\n"
     ]
    }
   ],
   "source": [
    "# 7 0 Desc$ibe the diffe$ent types of loops in Python and thei$ use cases with exa\u0013ples?\n",
    "\n",
    "\n",
    "# for loop : this looping statement is used to iterate on a sequence of element where the rnage is known\n",
    "\n",
    "for i in range(5):\n",
    "    print(i)"
   ]
  },
  {
   "cell_type": "code",
   "execution_count": 11,
   "id": "fb0b22f4-c961-495c-8130-88b143d52fa1",
   "metadata": {},
   "outputs": [
    {
     "name": "stdout",
     "output_type": "stream",
     "text": [
      "1\n",
      "2\n",
      "3\n",
      "4\n",
      "5\n",
      "Loop finished!\n"
     ]
    }
   ],
   "source": [
    "#while loop : this looping statement is used to iterate on as sequence od element where the range is not known and this will excecute block \n",
    "# till the condition is TRUE where you know the condition will be FALSE in next few steps.\n",
    "\n",
    "count = 1\n",
    "\n",
    "while count <= 5:\n",
    "    print(count) \n",
    "    count += 1  \n",
    "\n",
    "print(\"Loop finished!\")\n"
   ]
  },
  {
   "cell_type": "code",
   "execution_count": null,
   "id": "5e54729f-0af6-40e6-9568-f970399d4fdd",
   "metadata": {},
   "outputs": [],
   "source": []
  }
 ],
 "metadata": {
  "kernelspec": {
   "display_name": "Python 3 (ipykernel)",
   "language": "python",
   "name": "python3"
  },
  "language_info": {
   "codemirror_mode": {
    "name": "ipython",
    "version": 3
   },
   "file_extension": ".py",
   "mimetype": "text/x-python",
   "name": "python",
   "nbconvert_exporter": "python",
   "pygments_lexer": "ipython3",
   "version": "3.10.8"
  }
 },
 "nbformat": 4,
 "nbformat_minor": 5
}
