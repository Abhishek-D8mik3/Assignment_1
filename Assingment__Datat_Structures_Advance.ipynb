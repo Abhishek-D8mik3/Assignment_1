{
  "nbformat": 4,
  "nbformat_minor": 0,
  "metadata": {
    "colab": {
      "provenance": []
    },
    "kernelspec": {
      "name": "python3",
      "display_name": "Python 3"
    },
    "language_info": {
      "name": "python"
    }
  },
  "cells": [
    {
      "cell_type": "code",
      "execution_count": null,
      "metadata": {
        "colab": {
          "base_uri": "https://localhost:8080/"
        },
        "id": "ou94CJPu3W-r",
        "outputId": "4faad180-41b3-46c7-fa9d-bccc931acfbf"
      },
      "outputs": [
        {
          "output_type": "stream",
          "name": "stdout",
          "text": [
            "dlroW olleH\n"
          ]
        }
      ],
      "source": [
        "# Write a code to reverse string\n",
        "# Original string\n",
        "s = \"Hello World\"\n",
        "\n",
        "# Reversing the string using slicing\n",
        "reversed_string = s[::-1]\n",
        "\n",
        "# Printing the reversed string\n",
        "print(reversed_string)  # Output: \"dlroW olleH\""
      ]
    },
    {
      "cell_type": "code",
      "source": [
        "#Write the code to count no of vowels in the string\n",
        "# Original string\n",
        "s = \"Hello World\"\n",
        "\n",
        "# Vowels to check\n",
        "vowels = \"aeiouAEIOU\"\n",
        "\n",
        "# Counting vowels\n",
        "count = 0\n",
        "for char in s:\n",
        "    if char in vowels:\n",
        "        count += 1\n",
        "\n",
        "# Printing the count of vowels\n",
        "print(\"Number of vowels:\", count)  # Output: Number of vowels: 3"
      ],
      "metadata": {
        "colab": {
          "base_uri": "https://localhost:8080/"
        },
        "id": "ip-reGA_4MD8",
        "outputId": "4ab6cca8-5794-4255-ed32-5573f93c960c"
      },
      "execution_count": null,
      "outputs": [
        {
          "output_type": "stream",
          "name": "stdout",
          "text": [
            "Number of vowels: 3\n"
          ]
        }
      ]
    },
    {
      "cell_type": "code",
      "source": [
        "#write the code to check if the given string is palindome or not\n",
        "s = \"madam\"\n",
        "\n",
        "# Removing spaces and converting to lowercase for comparison\n",
        "s = s.replace(\" \", \"\").lower()\n",
        "\n",
        "# Checking if the string is equal to its reverse\n",
        "is_palindrome = s == s[::-1]\n",
        "\n",
        "# Printing the result\n",
        "if is_palindrome:\n",
        "    print(\"The string is a palindrome.\")\n",
        "else:\n",
        "    print(\"The string is not a palindrome.\")"
      ],
      "metadata": {
        "colab": {
          "base_uri": "https://localhost:8080/"
        },
        "id": "MwauPNRY5y_N",
        "outputId": "984158b4-4622-4f9b-d634-1f1d49f848be"
      },
      "execution_count": null,
      "outputs": [
        {
          "output_type": "stream",
          "name": "stdout",
          "text": [
            "The string is a palindrome.\n"
          ]
        }
      ]
    },
    {
      "cell_type": "code",
      "source": [
        "#Write ' %ode to %he%k if two gi\u0013en\n",
        "tring\n",
        " 're 'n'gr'\n",
        "\n",
        " of e'%h other\n",
        "str1 = \"listen\"\n",
        "str2 = \"silent\"\n",
        "\n",
        "# Removing spaces and converting to lowercase\n",
        "str1 = str1.replace(\" \", \"\").lower()\n",
        "str2 = str2.replace(\" \", \"\").lower()\n",
        "\n",
        "# Sorting and comparing the strings\n",
        "are_anagrams = sorted(str1) == sorted(str2)\n",
        "\n",
        "# Printing the result\n",
        "if are_anagrams:\n",
        "    print(\"The strings are anagrams of each other.\")\n",
        "else:\n",
        "    print(\"The strings are not anagrams of each other.\")"
      ],
      "metadata": {
        "colab": {
          "base_uri": "https://localhost:8080/"
        },
        "id": "09kBN7qN80Q0",
        "outputId": "92c00693-497f-4c4b-c64a-e8ef1655f371"
      },
      "execution_count": null,
      "outputs": [
        {
          "output_type": "stream",
          "name": "stdout",
          "text": [
            "The strings are anagrams of each other.\n"
          ]
        }
      ]
    },
    {
      "cell_type": "code",
      "source": [
        "#Write ' %ode to find 'll o%%urren%e\n",
        " of ' gi\u0013en\n",
        "ub\n",
        "tring within 'nother\n",
        "tring\n",
        "main_string = \"hello world, welcome to the world\"\n",
        "substring = \"world\"\n",
        "\n",
        "# Initializing count\n",
        "count = 0\n",
        "\n",
        "# Using a for loop to check for occurrences\n",
        "for i in range(len(main_string) - len(substring) + 1):\n",
        "    if main_string[i:i + len(substring)] == substring:\n",
        "        count += 1  # Increment count for each occurrence\n",
        "\n",
        "# Printing the count of occurrences\n",
        "print(\"The substring '{}' occurs {} times.\".format(substring, count))"
      ],
      "metadata": {
        "colab": {
          "base_uri": "https://localhost:8080/"
        },
        "id": "0r5vubWP-wvN",
        "outputId": "420bf940-6782-4d99-b18e-4127ec0f25f8"
      },
      "execution_count": null,
      "outputs": [
        {
          "output_type": "stream",
          "name": "stdout",
          "text": [
            "The substring 'world' occurs 2 times.\n"
          ]
        }
      ]
    },
    {
      "cell_type": "code",
      "source": [
        "#Write ' %ode to perfor\n",
        " b'\n",
        "i%\n",
        "tring %o\n",
        "pre\n",
        "\n",
        "ion u\n",
        "ing the %ount\n",
        " of repe'ted %h'r'%ter\n",
        "\u0012\n",
        "\n",
        "s = \"aaabbbccdaa\"\n",
        "\n",
        "# Initializing variables\n",
        "compressed_string = \"\"\n",
        "count = 1\n",
        "\n",
        "# Loop through the string\n",
        "for i in range(1, len(s)):\n",
        "    if s[i] == s[i - 1]:\n",
        "        count += 1  # Increment count for repeated characters\n",
        "    else:\n",
        "        compressed_string += s[i - 1] + str(count)  # Append character and count\n",
        "        count = 1  # Reset count for the new character\n",
        "\n",
        "# Adding the last character and its count\n",
        "compressed_string += s[-1] + str(count)\n",
        "\n",
        "# Printing the compressed string\n",
        "print(\"Compressed string:\", compressed_string)"
      ],
      "metadata": {
        "colab": {
          "base_uri": "https://localhost:8080/"
        },
        "id": "xCjTDfcS_ZbX",
        "outputId": "bf06622a-42cd-4ec5-870c-e788e428742d"
      },
      "execution_count": null,
      "outputs": [
        {
          "output_type": "stream",
          "name": "stdout",
          "text": [
            "Compressed string: a3b3c2d1a2\n"
          ]
        }
      ]
    },
    {
      "cell_type": "code",
      "source": [
        "#Write ' %ode to deter\n",
        "ine if '\n",
        "tring h'\n",
        " 'll unique %h'r'%ter\n",
        "\u0012\n",
        "\n",
        "\n",
        "s = \"abcdefg\"\n",
        "\n",
        "# Initializing a set to track unique characters\n",
        "unique_chars = set()\n",
        "\n",
        "# Flag to determine uniqueness\n",
        "is_unique = True\n",
        "\n",
        "# Loop through each character in the string\n",
        "for char in s:\n",
        "    if char in unique_chars:\n",
        "        is_unique = False  # Found a duplicate character\n",
        "        break\n",
        "    unique_chars.add(char)  # Add character to the set\n",
        "\n",
        "# Printing the result\n",
        "if is_unique:\n",
        "    print(\"The string has all unique characters.\")\n",
        "else:\n",
        "    print(\"The string does not have all unique characters.\")"
      ],
      "metadata": {
        "colab": {
          "base_uri": "https://localhost:8080/"
        },
        "id": "ds9ZTmO3Amaf",
        "outputId": "2a780925-8349-4ecc-d311-11c7308ea8d9"
      },
      "execution_count": null,
      "outputs": [
        {
          "output_type": "stream",
          "name": "stdout",
          "text": [
            "The string has all unique characters.\n"
          ]
        }
      ]
    },
    {
      "cell_type": "code",
      "source": [
        "#\u0012 Write ' %ode to %on\u0013ert ' gi\u0013en\n",
        "tring to upper%'\n",
        "e or lower%'\n",
        "e\u0012\n",
        "\n",
        "s = \"Hello World\"\n",
        "\n",
        "# User input for conversion choice\n",
        "choice = input(\"Type 'upper' to convert to uppercase or 'lower' to convert to lowercase: \")\n",
        "\n",
        "# Converting based on user choice\n",
        "if choice.lower() == 'upper':\n",
        "    converted_string = s.upper()\n",
        "elif choice.lower() == 'lower':\n",
        "    converted_string = s.lower()\n",
        "else:\n",
        "    converted_string = \"Invalid choice!\"\n",
        "\n",
        "# Printing the converted string\n",
        "print(\"Converted string:\", converted_string)"
      ],
      "metadata": {
        "id": "8riIWGElCMiJ"
      },
      "execution_count": null,
      "outputs": []
    },
    {
      "cell_type": "code",
      "source": [
        "#Write ' %ode to %ount the nu\n",
        "ber of word\n",
        " in '\n",
        "tring\u0012\n",
        "s = \"Hello world, welcome to Python programming.\"\n",
        "\n",
        "# Counting the number of words\n",
        "word_count = len(s.split())\n",
        "\n",
        "# Printing the number of words\n",
        "print(\"Number of words:\", word_count)"
      ],
      "metadata": {
        "colab": {
          "base_uri": "https://localhost:8080/"
        },
        "id": "HZaDxERpIrJQ",
        "outputId": "83dcee2a-bb4f-4981-e862-7a06e3b7840f"
      },
      "execution_count": null,
      "outputs": [
        {
          "output_type": "stream",
          "name": "stdout",
          "text": [
            "Number of words: 6\n"
          ]
        }
      ]
    },
    {
      "cell_type": "code",
      "source": [
        "#Write ' %ode to %on%'ten'te two\n",
        "tring\n",
        " without u\n",
        "ing the + oper'tor\u0012\n",
        "tr1 = \"Hello\"\n",
        "str2 = \"World\"\n",
        "\n",
        "# Concatenating using the join method\n",
        "result = ''.join([str1, str2])\n",
        "\n",
        "# Printing the concatenated result\n",
        "print(\"Concatenated string:\", result)"
      ],
      "metadata": {
        "colab": {
          "base_uri": "https://localhost:8080/"
        },
        "id": "X4jrKBl1JP3Y",
        "outputId": "dcd76459-32cb-4678-84e3-19239a6fe2a5"
      },
      "execution_count": null,
      "outputs": [
        {
          "output_type": "stream",
          "name": "stdout",
          "text": [
            "Concatenated string: listenWorld\n"
          ]
        }
      ]
    },
    {
      "cell_type": "code",
      "source": [
        "#Write ' %ode to re\n",
        "o\u0013e 'll o%%urren%e\n",
        " of '\n",
        "pe%ifi% ele\n",
        "ent fro\n",
        " ' li\n",
        "t\n",
        "my_list = [1, 2, 3, 4, 2, 5, 2]\n",
        "element_to_remove = 2\n",
        "\n",
        "# Removing all occurrences of the specific element\n",
        "my_list = [item for item in my_list if item != element_to_remove]\n",
        "\n",
        "# Printing the updated list\n",
        "print(\"Updated list:\", my_list)"
      ],
      "metadata": {
        "colab": {
          "base_uri": "https://localhost:8080/"
        },
        "id": "jHXEVH2LJbJD",
        "outputId": "147b91a4-ab8d-4271-e664-c202c058fc24"
      },
      "execution_count": null,
      "outputs": [
        {
          "output_type": "stream",
          "name": "stdout",
          "text": [
            "Updated list: [1, 3, 4, 5]\n"
          ]
        }
      ]
    },
    {
      "cell_type": "code",
      "source": [
        "#I\n",
        "ple\n",
        "ent ' %ode to find the\n",
        "e%ond l'rge\n",
        "t nu\n",
        "ber in ' gi\u0013en li\n",
        "t of integer\n",
        "\u0012\n",
        "my_list = [10, 20, 4, 45, 99]\n",
        "\n",
        "# Initializing variables\n",
        "largest = float('-inf')\n",
        "second_largest = float('-inf')\n",
        "\n",
        "# Loop through the list to find the largest and second largest numbers\n",
        "for num in my_list:\n",
        "    if num > largest:\n",
        "        second_largest = largest\n",
        "        largest = num\n",
        "    elif num > second_largest and num != largest:\n",
        "        second_largest = num\n",
        "\n",
        "# Printing the second largest number\n",
        "print(\"The second largest number is:\", second_largest)"
      ],
      "metadata": {
        "colab": {
          "base_uri": "https://localhost:8080/"
        },
        "id": "hBGAQJEzjefx",
        "outputId": "66c56c51-86fb-4fdd-ea71-ef3930eaf4da"
      },
      "execution_count": null,
      "outputs": [
        {
          "output_type": "stream",
          "name": "stdout",
          "text": [
            "The second largest number is: 45\n"
          ]
        }
      ]
    },
    {
      "cell_type": "code",
      "source": [
        "#Cre'te ' %ode to %ount the o%%urren%e\n",
        " of e'%h ele\n",
        "ent in ' li\n",
        "t 'nd return ' di%tion'r\n",
        " #with ele\n",
        "ent\n",
        " '\n",
        "ke\n",
        " 'nd their %ount\n",
        " '\n",
        " \u0013'lue\n",
        "\u0012\n",
        "\n",
        "my_list = [1, 2, 2, 3, 1, 4, 3, 3]\n",
        "\n",
        "# Initializing an empty dictionary to store counts\n",
        "count_dict = {}\n",
        "\n",
        "# Counting occurrences of each element\n",
        "for item in my_list:\n",
        "    if item in count_dict:\n",
        "        count_dict[item] += 1  # Increment count if item already exists\n",
        "    else:\n",
        "        count_dict[item] = 1  # Initialize count to 1 for new item\n",
        "\n",
        "# Printing the dictionary with element counts\n",
        "print(\"Element counts:\", count_dict)"
      ],
      "metadata": {
        "colab": {
          "base_uri": "https://localhost:8080/"
        },
        "id": "v3FuBFjmkZ8b",
        "outputId": "df9c8ca7-cf85-4443-d9f3-8dbaeff412f5"
      },
      "execution_count": null,
      "outputs": [
        {
          "output_type": "stream",
          "name": "stdout",
          "text": [
            "Element counts: {1: 2, 2: 2, 3: 3, 4: 1}\n"
          ]
        }
      ]
    },
    {
      "cell_type": "code",
      "source": [
        "#Write ' %ode to re\u0013er\n",
        "e ' li\n",
        "t in-pl'%e without u\n",
        "ing 'n\n",
        " #built-in re\u0013er\n",
        "e fun%tion\n",
        "\u0012\n",
        "\n",
        "\n",
        "my_list = [1, 2, 3, 4, 5]\n",
        "\n",
        "# Initializing pointers\n",
        "start = 0\n",
        "end = len(my_list) - 1\n",
        "\n",
        "# Reversing the list in-place\n",
        "while start < end:\n",
        "    # Swapping elements\n",
        "    my_list[start], my_list[end] = my_list[end], my_list[start]\n",
        "    start += 1\n",
        "    end -= 1\n",
        "\n",
        "# Printing the reversed list\n",
        "print(\"Reversed list:\", my_list)"
      ],
      "metadata": {
        "id": "hmJyT--Vkt1S"
      },
      "execution_count": null,
      "outputs": []
    },
    {
      "cell_type": "code",
      "source": [
        "#I\n",
        "ple\n",
        "ent ' %ode to find 'nd re\n",
        "o\u0013e dupli%'te\n",
        " fro\n",
        " ' li\n",
        "t while pre\n",
        "er\u0013ing the origin'l order of\n",
        "#ele\n",
        "ent\n",
        "\u0012\n",
        "\n",
        "my_list = [1, 2, 3, 2, 4, 1, 5, 3]\n",
        "\n",
        "# Initializing a set to track seen elements and a new list for unique elements\n",
        "seen = set()\n",
        "unique_list = []\n",
        "\n",
        "# Loop through the original list\n",
        "for item in my_list:\n",
        "    if item not in seen:\n",
        "        unique_list.append(item)  # Add to unique list if not seen\n",
        "        seen.add(item)            # Mark the item as seen\n",
        "\n",
        "# Printing the list with duplicates removed\n",
        "print(\"List with duplicates removed:\", unique_list)"
      ],
      "metadata": {
        "colab": {
          "base_uri": "https://localhost:8080/"
        },
        "id": "M8JhKnIUli62",
        "outputId": "0a31c391-e7c7-47bd-b096-3a1a1215e216"
      },
      "execution_count": null,
      "outputs": [
        {
          "output_type": "stream",
          "name": "stdout",
          "text": [
            "List with duplicates removed: [1, 2, 3, 4, 5]\n"
          ]
        }
      ]
    },
    {
      "cell_type": "code",
      "source": [
        "#Cre'te ' %ode to %he%k if ' gi\u0013en li\n",
        "t i\n",
        "\n",
        "orted (either in '\n",
        "%ending or de\n",
        "%ending order) or not\u0012\n",
        "\n",
        "my_list = [1, 2, 3, 4, 5]  # Change this list to test\n",
        "\n",
        "# Checking for ascending and descending order\n",
        "is_ascending = all(my_list[i] <= my_list[i + 1] for i in range(len(my_list) - 1))\n",
        "is_descending = all(my_list[i] >= my_list[i + 1] for i in range(len(my_list) - 1))\n",
        "\n",
        "# Printing the result\n",
        "if is_ascending:\n",
        "    print(\"The list is sorted in ascending order.\")\n",
        "elif is_descending:\n",
        "    print(\"The list is sorted in descending order.\")\n",
        "else:\n",
        "    print(\"The list is not sorted.\")"
      ],
      "metadata": {
        "colab": {
          "base_uri": "https://localhost:8080/"
        },
        "id": "sWUAveh0l0pz",
        "outputId": "0e880290-295c-4e2e-ad86-aecb84f0eeaf"
      },
      "execution_count": null,
      "outputs": [
        {
          "output_type": "stream",
          "name": "stdout",
          "text": [
            "The list is sorted in ascending order.\n"
          ]
        }
      ]
    },
    {
      "cell_type": "code",
      "source": [
        "#Write ' %ode to\n",
        "erge two\n",
        "orted li\n",
        "t\n",
        " into '\n",
        "ingle\n",
        "orted li\n",
        "t\u0012\n",
        "\n",
        "list1 = [1, 3, 5, 7]\n",
        "list2 = [2, 4, 6, 8]\n",
        "\n",
        "# Merging the lists\n",
        "merged_list = []\n",
        "i, j = 0, 0\n",
        "\n",
        "# Using for loop to iterate until both lists are exhausted\n",
        "for _ in range(len(list1) + len(list2)):\n",
        "    if i < len(list1) and (j >= len(list2) or list1[i] < list2[j]):\n",
        "        merged_list.append(list1[i])\n",
        "        i += 1\n",
        "    else:\n",
        "        merged_list.append(list2[j])\n",
        "        j += 1\n",
        "\n",
        "# Printing the merged sorted list\n",
        "print(\"Merged sorted list:\", merged_list)"
      ],
      "metadata": {
        "colab": {
          "base_uri": "https://localhost:8080/"
        },
        "id": "eow679lBl-vV",
        "outputId": "8037daab-fc21-4522-8960-a73ccfee3c21"
      },
      "execution_count": null,
      "outputs": [
        {
          "output_type": "stream",
          "name": "stdout",
          "text": [
            "Merged sorted list: [1, 2, 3, 4, 5, 6, 7, 8]\n"
          ]
        }
      ]
    },
    {
      "cell_type": "code",
      "source": [
        "# I\u0012 Cre'te ' %ode to find the union of two li\u001dt\u001d without dupli%'te\u001d\u0012\n",
        "\n",
        "ple\n",
        "ent ' %ode to find the inter\n",
        "e%tion of two gi\u0013en li\n",
        "t\n",
        "\u0012\n",
        "\n",
        "list1 = [1, 2, 3, 4, 5]\n",
        "list2 = [4, 5, 6, 7, 8]\n",
        "\n",
        "# Finding the intersection\n",
        "intersection = []\n",
        "\n",
        "# Loop through the first list\n",
        "for item in list1:\n",
        "    if item in list2:  # Check if the item is in the second list\n",
        "        intersection.append(item)\n",
        "\n",
        "# Printing the intersection of the two lists\n",
        "print(\"Intersection of the two lists:\", intersection)"
      ],
      "metadata": {
        "colab": {
          "base_uri": "https://localhost:8080/"
        },
        "id": "0GEcstX9mLjx",
        "outputId": "fcbb4f66-d9ce-43cd-ff83-979ba003899e"
      },
      "execution_count": null,
      "outputs": [
        {
          "output_type": "stream",
          "name": "stdout",
          "text": [
            "Intersection of the two lists: [4, 5]\n"
          ]
        }
      ]
    },
    {
      "cell_type": "code",
      "source": [
        "# \u0012 Write ' %ode to \u001dhuffle ' gi\u0013en li\u001dt r'ndo\fl without u\u001ding 'n built-in \u001dhuffle fun%tion\u001d\u0012\n",
        "\n",
        "my_list = [1, 2, 3, 4, 5]\n",
        "\n",
        "# Shuffling the list\n",
        "n = len(my_list)\n",
        "\n",
        "# Simple method to shuffle by swapping\n",
        "for i in range(n):\n",
        "    # Generate a random index manually (you can replace this with any method)\n",
        "    random_index = (i * 7 + 3) % n  # This is just a simple pseudo-random formula\n",
        "\n",
        "    # Swap elements\n",
        "    my_list[i], my_list[random_index] = my_list[random_index], my_list[i]\n",
        "\n",
        "# Printing the shuffled list\n",
        "print(\"Shuffled list:\", my_list)"
      ],
      "metadata": {
        "id": "ZIkh-RVZml9Y",
        "colab": {
          "base_uri": "https://localhost:8080/"
        },
        "outputId": "61e16531-a631-4651-eaf1-735a3ccde135"
      },
      "execution_count": 10,
      "outputs": [
        {
          "output_type": "stream",
          "name": "stdout",
          "text": [
            "Shuffled list: [2, 1, 3, 5, 4]\n"
          ]
        }
      ]
    },
    {
      "cell_type": "code",
      "source": [
        "#Write ' %ode th't t'ke\u001d two tuple\u001d '\u001d input 'nd return\u001d ' new tuple %ont'ining ele\fent\u001d th't 're %o\f\fon to both input tuple\u001d\u0012\n",
        "\n",
        "tuple1 = (1, 2, 3, 4, 5)\n",
        "tuple2 = (4, 5, 6, 7, 8)\n",
        "\n",
        "# Finding common elements\n",
        "common_elements = []\n",
        "\n",
        "# Loop through the first tuple\n",
        "for item in tuple1:\n",
        "    if item in tuple2:  # Check if the item is in the second tuple\n",
        "        common_elements.append(item)\n",
        "\n",
        "# Creating a new tuple from the list of common elements\n",
        "result_tuple = tuple(common_elements)\n",
        "\n",
        "# Printing the resulting tuple\n",
        "print(\"Common elements tuple:\", result_tuple)"
      ],
      "metadata": {
        "colab": {
          "base_uri": "https://localhost:8080/"
        },
        "id": "PaOVqSKOnhWx",
        "outputId": "085fc9ff-084f-4e5b-8f65-6a5a9530b464"
      },
      "execution_count": 11,
      "outputs": [
        {
          "output_type": "stream",
          "name": "stdout",
          "text": [
            "Common elements tuple: (4, 5)\n"
          ]
        }
      ]
    },
    {
      "cell_type": "code",
      "source": [
        "#Cre'te ' %ode th't pro\fpt\u001d the u\u001der to enter two \u001det\u001d of integer\u001d \u001dep'r'ted b %o\f\f'\u001d. Then# print the inter\u001de%tion of the\u001de two \u001det\u001d\u0012\n",
        "\n",
        "input1 = input(\"Enter the first set of integers (separated by commas): \")\n",
        "input2 = input(\"Enter the second set of integers (separated by commas): \")\n",
        "\n",
        "# Converting input strings to sets of integers\n",
        "set1 = set(int(num.strip()) for num in input1.split(','))\n",
        "set2 = set(int(num.strip()) for num in input2.split(','))\n",
        "\n",
        "# Finding the intersection\n",
        "intersection = set1.intersection(set2)\n",
        "\n",
        "# Printing the intersection\n",
        "print(\"Intersection of the two sets:\", intersection)"
      ],
      "metadata": {
        "colab": {
          "base_uri": "https://localhost:8080/"
        },
        "id": "o1lRrRJLn4Ew",
        "outputId": "d68b58e5-e4c2-44be-e2f9-49dda4a2613b"
      },
      "execution_count": 12,
      "outputs": [
        {
          "output_type": "stream",
          "name": "stdout",
          "text": [
            "Enter the first set of integers (separated by commas): 4,5,6,8\n",
            "Enter the second set of integers (separated by commas): 7,8,9,3\n",
            "Intersection of the two sets: {8}\n"
          ]
        }
      ]
    },
    {
      "cell_type": "code",
      "source": [
        "#Write ' %ode to %on%'ten'te two tuple\u001d. The fun%tion \u001dhould t'ke two tuple\u001d '\u001d input 'nd return ' new tuple %ont'ining ele\fent\u001d fro\f both input tuple\u001d\n",
        "\n",
        "tuple1 = (1, 2, 3)\n",
        "tuple2 = (4, 5, 6)\n",
        "\n",
        "# Concatenating the tuples\n",
        "result_tuple = tuple1 + tuple2\n",
        "\n",
        "# Printing the concatenated tuple\n",
        "print(\"Concatenated tuple:\", result_tuple)"
      ],
      "metadata": {
        "colab": {
          "base_uri": "https://localhost:8080/"
        },
        "id": "OiyRB2SroGqV",
        "outputId": "d1149b9f-5cd9-4463-d132-5a58aeaf35b3"
      },
      "execution_count": 13,
      "outputs": [
        {
          "output_type": "stream",
          "name": "stdout",
          "text": [
            "Concatenated tuple: (1, 2, 3, 4, 5, 6)\n"
          ]
        }
      ]
    },
    {
      "cell_type": "code",
      "source": [
        "\n",
        "# Prompting the user to enter two sets of strings\n",
        "input1 = input(\"Enter the first set of strings (separated by commas): \")\n",
        "input2 = input(\"Enter the second set of strings (separated by commas): \")\n",
        "\n",
        "# Converting input strings to sets\n",
        "set1 = set(item.strip() for item in input1.split(','))\n",
        "set2 = set(item.strip() for item in input2.split(','))\n",
        "\n",
        "# Finding elements present in the first set but not in the second set\n",
        "difference = set1.difference(set2)\n",
        "\n",
        "# Printing the result\n",
        "print(\"Elements in the first set but not in the second set:\", difference)\n"
      ],
      "metadata": {
        "colab": {
          "base_uri": "https://localhost:8080/"
        },
        "id": "gmQ2nvNwockK",
        "outputId": "654b43c7-0f1e-4d95-84b0-5cd3446d6475"
      },
      "execution_count": 14,
      "outputs": [
        {
          "output_type": "stream",
          "name": "stdout",
          "text": [
            "Enter the first set of strings (separated by commas): hello, world, rain\n",
            "Enter the second set of strings (separated by commas): water, soil, rock\n",
            "Elements in the first set but not in the second set: {'hello', 'world', 'rain'}\n"
          ]
        }
      ]
    },
    {
      "cell_type": "code",
      "source": [
        "#& Cr(+t( + cod( th+t t+k(s + tupl( +nd two int(g(rs +s input. Th( function should r(turn + n(w tupl(\n",
        "#cont+ining (l(m(nts from th( origin+l tupl( within th( sp(cifi(d r+ng( of indic(s&\n",
        "\n",
        "original_tuple = (10, 20, 30, 40, 50, 60, 70)\n",
        "\n",
        "# Taking two integers as input for the range\n",
        "start_index = int(input(\"Enter the start index: \"))\n",
        "end_index = int(input(\"Enter the end index: \"))\n",
        "\n",
        "# Creating a new tuple containing elements from the specified range\n",
        "new_tuple = original_tuple[start_index:end_index]\n",
        "\n",
        "# Printing the new tuple\n",
        "print(\"New tuple with elements in the specified range:\", new_tuple)\n"
      ],
      "metadata": {
        "colab": {
          "base_uri": "https://localhost:8080/"
        },
        "id": "QKxDaq21o31N",
        "outputId": "81be9960-430a-4436-e171-9acfaa2293ad"
      },
      "execution_count": 15,
      "outputs": [
        {
          "output_type": "stream",
          "name": "stdout",
          "text": [
            "Enter the start index: -1\n",
            "Enter the end index: 5\n",
            "New tuple with elements in the specified range: ()\n"
          ]
        }
      ]
    },
    {
      "cell_type": "code",
      "source": [
        "#Writ( + cod( th+t prompts th( us(r to input two s(ts of ch+r+ct(rs. Th(n print th( union of th(s( two s(ts&\n",
        "\n",
        "input1 = input(\"Enter the first set of characters (separated by commas): \")\n",
        "input2 = input(\"Enter the second set of characters (separated by commas): \")\n",
        "\n",
        "# Converting input strings to sets\n",
        "set1 = set(char.strip() for char in input1.split(','))\n",
        "set2 = set(char.strip() for char in input2.split(','))\n",
        "\n",
        "# Finding the union of the two sets\n",
        "union_set = set1.union(set2)\n",
        "\n",
        "# Printing the result\n",
        "print(\"Union of the two sets:\", union_set)"
      ],
      "metadata": {
        "colab": {
          "base_uri": "https://localhost:8080/"
        },
        "id": "ggYgqiuypQMP",
        "outputId": "c5dfdaa7-3c7e-40c3-d8b3-d9ba11c985aa"
      },
      "execution_count": 16,
      "outputs": [
        {
          "output_type": "stream",
          "name": "stdout",
          "text": [
            "Enter the first set of characters (separated by commas): cat,dog,ant\n",
            "Enter the second set of characters (separated by commas): lion,tiger,goat\n",
            "Union of the two sets: {'dog', 'tiger', 'lion', 'cat', 'ant', 'goat'}\n"
          ]
        }
      ]
    },
    {
      "cell_type": "code",
      "source": [
        "# D(v(lop + cod( th+t t+k(s + tupl( of int(g(rs +s input. Th( function should r(turn th( m+\bimum +nd minimum v+lu(s from th( tupl( using tupl( unp+cking&\n",
        "\n",
        "# Taking a tuple of integers as input\n",
        "input_tuple = tuple(int(x) for x in input(\"Enter integers separated by commas: \").split(','))\n",
        "\n",
        "# Finding the minimum and maximum values using tuple unpacking\n",
        "min_value, max_value = min(input_tuple), max(input_tuple)\n",
        "\n",
        "# Creating a new tuple with the minimum and maximum values\n",
        "result_tuple = (min_value, max_value)\n",
        "\n",
        "# Printing the result\n",
        "print(\"Minimum and maximum values:\", result_tuple)\n"
      ],
      "metadata": {
        "colab": {
          "base_uri": "https://localhost:8080/"
        },
        "id": "sdgwUj-opoF8",
        "outputId": "8b83bc61-c42a-4eec-e864-6b046d175f45"
      },
      "execution_count": 17,
      "outputs": [
        {
          "output_type": "stream",
          "name": "stdout",
          "text": [
            "Enter integers separated by commas: 58,69,85,45\n",
            "Minimum and maximum values: (45, 85)\n"
          ]
        }
      ]
    },
    {
      "cell_type": "code",
      "source": [
        "#& Cr(+t( + cod( th+t d(fin(s two s(ts of int(g(rs. Th(n print th( union int(rs(ction +nd diff(r(nc( of th(s(\n",
        "#two s(ts&\n",
        "\n",
        "set1 = {1, 2, 3, 4, 5}\n",
        "set2 = {4, 5, 6, 7, 8}\n",
        "\n",
        "# Calculating the union\n",
        "union_set = set1.union(set2)\n",
        "\n",
        "# Calculating the intersection\n",
        "intersection_set = set1.intersection(set2)\n",
        "\n",
        "# Calculating the difference (elements in set1 but not in set2)\n",
        "difference_set = set1.difference(set2)\n",
        "\n",
        "# Printing the results\n",
        "print(\"Union of the two sets:\", union_set)\n",
        "print(\"Intersection of the two sets:\", intersection_set)\n",
        "print(\"Difference (set1 - set2):\", difference_set)"
      ],
      "metadata": {
        "colab": {
          "base_uri": "https://localhost:8080/"
        },
        "id": "cB7QuBNjp8-i",
        "outputId": "407dee85-1384-4cd4-cce0-a46867f38f7b"
      },
      "execution_count": 18,
      "outputs": [
        {
          "output_type": "stream",
          "name": "stdout",
          "text": [
            "Union of the two sets: {1, 2, 3, 4, 5, 6, 7, 8}\n",
            "Intersection of the two sets: {4, 5}\n",
            "Difference (set1 - set2): {1, 2, 3}\n"
          ]
        }
      ]
    },
    {
      "cell_type": "code",
      "source": [
        "#Writ( + cod( th+t t+k(s + tupl( +nd +n (l(m(nt +s input. Th( function should r(turn th( count of occurr(nc(s of th( giv(n (l(m(nt in th( tupl(&\n",
        "\n",
        "# Taking a tuple as input\n",
        "input_tuple = tuple(input(\"Enter elements of the tuple separated by commas: \").split(','))\n",
        "\n",
        "# Taking the element to count as input\n",
        "element = input(\"Enter the element to count its occurrences: \")\n",
        "\n",
        "# Counting occurrences of the given element in the tuple\n",
        "count = input_tuple.count(element)\n",
        "\n",
        "# Printing the result\n",
        "print(\"Count of occurrences of '{}' in the tuple: {}\".format(element, count))\n"
      ],
      "metadata": {
        "colab": {
          "base_uri": "https://localhost:8080/"
        },
        "id": "_rMcVBuvqNbY",
        "outputId": "b2099e2f-464c-4bfe-9a06-3394958c671c"
      },
      "execution_count": 19,
      "outputs": [
        {
          "output_type": "stream",
          "name": "stdout",
          "text": [
            "Enter elements of the tuple separated by commas: 85,cat,5,True\n",
            "Enter the element to count its occurrences: 87,rat,3+5j,dog\n",
            "Count of occurrences of '87,rat,3+5j,dog' in the tuple: 0\n"
          ]
        }
      ]
    },
    {
      "cell_type": "code",
      "source": [
        "#D(v(lop + cod( th+t prompts th( us(r to input two s(ts of strings. Th(n print th( s\u0004mm(tric diff(r(nc( of th(s( two s(ts\n",
        "\n",
        "# Prompting the user to enter two sets of strings\n",
        "input1 = input(\"Enter the first set of strings (separated by commas): \")\n",
        "input2 = input(\"Enter the second set of strings (separated by commas): \")\n",
        "\n",
        "# Converting input strings to sets\n",
        "set1 = set(item.strip() for item in input1.split(','))\n",
        "set2 = set(item.strip() for item in input2.split(','))\n",
        "\n",
        "# Finding the symmetric difference\n",
        "symmetric_difference = set1.symmetric_difference(set2)\n",
        "\n",
        "# Printing the result\n",
        "print(\"Symmetric difference of the two sets:\", symmetric_difference)\n"
      ],
      "metadata": {
        "colab": {
          "base_uri": "https://localhost:8080/"
        },
        "id": "K9pB12HFqYCQ",
        "outputId": "d4d66f08-d98e-45ea-8f05-0e03320d82cf"
      },
      "execution_count": 20,
      "outputs": [
        {
          "output_type": "stream",
          "name": "stdout",
          "text": [
            "Enter the first set of strings (separated by commas): street,lane,railway,roadways\n",
            "Enter the second set of strings (separated by commas): car,bike,train,airplane\n",
            "Symmetric difference of the two sets: {'roadways', 'bike', 'car', 'railway', 'train', 'lane', 'airplane', 'street'}\n"
          ]
        }
      ]
    },
    {
      "cell_type": "code",
      "source": [
        "#Writ( + cod( th+t t+k(s + list of words +s input +nd r(turns + diction+r\u0004 wh(r( th( k(\u0004s +r( uni\fu( words +nd th( v+lu(s +r( th( fr(\fu(nci(s of thos( words in th( input list\n",
        "\n",
        "# Taking a list of words as input\n",
        "input_list = input(\"Enter a list of words (separated by spaces): \").split()\n",
        "\n",
        "# Creating a dictionary to count occurrences\n",
        "word_count = {}\n",
        "\n",
        "# Counting the frequency of each word\n",
        "for word in input_list:\n",
        "    word_count[word] = word_count.get(word, 0) + 1\n",
        "\n",
        "# Printing the resulting dictionary\n",
        "print(\"Word frequencies:\", word_count)\n"
      ],
      "metadata": {
        "colab": {
          "base_uri": "https://localhost:8080/"
        },
        "id": "wv-iomvnqq-u",
        "outputId": "fb0f9bd8-e3c3-4696-b064-12239a0c18d1"
      },
      "execution_count": 21,
      "outputs": [
        {
          "output_type": "stream",
          "name": "stdout",
          "text": [
            "Enter a list of words (separated by spaces): car,bike,bycycle,tricycle\n",
            "Word frequencies: {'car,bike,bycycle,tricycle': 1}\n"
          ]
        }
      ]
    },
    {
      "cell_type": "code",
      "source": [
        "# Writ( + cod( th+t t+k(s two diction+ri(s +s input +nd m(rg(s th(m into + singl( diction+r\u0004. If th(r( +r( common k(\u0004s th( v+lu(s should b( +dd(d tog(th(r&\n",
        "\n",
        "# Taking two dictionaries as input\n",
        "dict1 = eval(input(\"Enter the first dictionary (e.g., {'a': 1, 'b': 2}): \"))\n",
        "dict2 = eval(input(\"Enter the second dictionary (e.g., {'b': 3, 'c': 4}): \"))\n",
        "\n",
        "# Merging the dictionaries\n",
        "merged_dict = dict1.copy()  # Start with a copy of the first dictionary\n",
        "\n",
        "for key, value in dict2.items():\n",
        "    if key in merged_dict:\n",
        "        merged_dict[key] += value  # Add value if the key exists\n",
        "    else:\n",
        "        merged_dict[key] = value  # Add new key-value pair\n",
        "\n",
        "# Printing the merged dictionary\n",
        "print(\"Merged dictionary:\", merged_dict)\n"
      ],
      "metadata": {
        "colab": {
          "base_uri": "https://localhost:8080/"
        },
        "id": "ktbKiodFrCfH",
        "outputId": "89be9922-a8e9-4e02-dc39-f49e0039438a"
      },
      "execution_count": 23,
      "outputs": [
        {
          "output_type": "stream",
          "name": "stdout",
          "text": [
            "Enter the first dictionary (e.g., {'a': 1, 'b': 2}): {'a':1, 'b':2}\n",
            "Enter the second dictionary (e.g., {'b': 3, 'c': 4}): {'r':3, 'd':7}\n",
            "Merged dictionary: {'a': 1, 'b': 2, 'r': 3, 'd': 7}\n"
          ]
        }
      ]
    },
    {
      "cell_type": "code",
      "source": [
        "#Writ( + cod( to +cc(ss + v+lu( in + n(st(d diction+r\u0004. Th( function should t+k( th( diction+r\u0004 +nd + list of\n",
        "#k(\u0004s +s input +nd r(turn th( corr(sponding v+lu(. If +n\u0004 of th( k(\u0004s do not (\bist in th( diction+r\u0004 th(\n",
        "#function should r(turn Non(&\n",
        "\n",
        "# Given nested dictionary\n",
        "nested_dict = {\n",
        "    'a': {'b': 1, 'c': 2},\n",
        "    'd': {'e': 3, 'f': 4}\n",
        "}\n",
        "\n",
        "# Taking a list of keys as input\n",
        "keys = input(\"Enter the keys separated by commas (e.g., a,b,c): \").split(',')\n",
        "\n",
        "# Function to access values in the nested dictionary\n",
        "result = nested_dict\n",
        "\n",
        "for key in keys:\n",
        "    if key.strip() in result:\n",
        "        result = result[key.strip()]  # Access the next level\n",
        "    else:\n",
        "        result = \"None\"  # If a key doesn't exist\n",
        "        break\n",
        "\n",
        "# Printing the result\n",
        "print(\"Corresponding value:\", result)\n"
      ],
      "metadata": {
        "colab": {
          "base_uri": "https://localhost:8080/"
        },
        "id": "qbxQmKmNrXCd",
        "outputId": "30ed43e4-9d44-42b0-a6ff-935b6bd0f173"
      },
      "execution_count": 24,
      "outputs": [
        {
          "output_type": "stream",
          "name": "stdout",
          "text": [
            "Enter the keys separated by commas (e.g., a,b,c): a,g,r,k\n",
            "Corresponding value: None\n"
          ]
        }
      ]
    },
    {
      "cell_type": "code",
      "source": [
        "#Writ( + cod( th+t t+k(s + diction+r\u0004 +s input +nd r(turns + sort(d v(rsion of it b+s(d on th( v+lu(s. You c+n choos( wh(th(r to sort in +sc(nding or d(sc(nding ord(r&\n",
        "\n",
        "# Taking a dictionary as input\n",
        "input_dict = eval(input(\"Enter a dictionary (e.g., {'a': 3, 'b': 1, 'c': 2}): \"))\n",
        "\n",
        "# Taking the sort order as input\n",
        "order = input(\"Enter 'asc' for ascending or 'desc' for descending order: \").strip().lower()\n",
        "\n",
        "# Sorting the dictionary based on values\n",
        "if order == 'asc':\n",
        "    sorted_dict = dict(sorted(input_dict.items(), key=lambda item: item[1]))\n",
        "elif order == 'desc':\n",
        "    sorted_dict = dict(sorted(input_dict.items(), key=lambda item: item[1], reverse=True))\n",
        "else:\n",
        "    sorted_dict = \"Invalid order choice.\"\n",
        "\n",
        "# Printing the sorted dictionary\n",
        "print(\"Sorted dictionary:\", sorted_dict)\n"
      ],
      "metadata": {
        "colab": {
          "base_uri": "https://localhost:8080/"
        },
        "id": "qx5vXot-sCWk",
        "outputId": "cdc30fa8-237f-4861-a6fb-d9c917be5d12"
      },
      "execution_count": 26,
      "outputs": [
        {
          "output_type": "stream",
          "name": "stdout",
          "text": [
            "Enter a dictionary (e.g., {'a': 3, 'b': 1, 'c': 2}): {'dr':3, 'fg':4, 'pf': 5}\n",
            "Enter 'asc' for ascending or 'desc' for descending order: desc\n",
            "Sorted dictionary: {'pf': 5, 'fg': 4, 'dr': 3}\n"
          ]
        }
      ]
    },
    {
      "cell_type": "code",
      "source": [
        "#Writ( + cod( th+t inv(rts + diction+r\u0004 sw+pping k(\u0004s +nd v+lu(s. Ensur( th+t th( inv(rt(d diction+r\u0004\n",
        "#corr(ctl\u0004 h+ndl(s c+s(s wh(r( multipl( k(\u0004s h+v( th( s+m( v+lu( b\u0004 storing th( k(\u0004s +s + list in th(\n",
        "#inv(rt(d diction+r\u0004.\n",
        "\n",
        "# Taking a dictionary as input\n",
        "input_dict = eval(input(\"Enter a dictionary (e.g., {'a': 1, 'b': 2, 'c': 1}): \"))\n",
        "\n",
        "# Inverting the dictionary\n",
        "inverted_dict = {}\n",
        "\n",
        "for key, value in input_dict.items():\n",
        "    if value in inverted_dict:\n",
        "        # If the value already exists, append the key to the list\n",
        "        if isinstance(inverted_dict[value], list):\n",
        "            inverted_dict[value].append(key)\n",
        "        else:\n",
        "            inverted_dict[value] = [inverted_dict[value], key]\n",
        "    else:\n",
        "        inverted_dict[value] = key\n",
        "\n",
        "# Printing the inverted dictionary\n",
        "print(\"Inverted dictionary:\", inverted_dict)\n"
      ],
      "metadata": {
        "colab": {
          "base_uri": "https://localhost:8080/"
        },
        "id": "LNzyFcaFsPeg",
        "outputId": "b9d31601-43a8-4fc4-e2f9-171328b45fe8"
      },
      "execution_count": 27,
      "outputs": [
        {
          "output_type": "stream",
          "name": "stdout",
          "text": [
            "Enter a dictionary (e.g., {'a': 1, 'b': 2, 'c': 1}): {'a':1, 'b':3, 'c':4, 'd':5}\n",
            "Inverted dictionary: {1: 'a', 3: 'b', 4: 'c', 5: 'd'}\n"
          ]
        }
      ]
    },
    {
      "cell_type": "code",
      "source": [],
      "metadata": {
        "id": "axOgNwIRszom"
      },
      "execution_count": null,
      "outputs": []
    }
  ]
}