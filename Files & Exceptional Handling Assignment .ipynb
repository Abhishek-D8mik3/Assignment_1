{
 "cells": [
  {
   "cell_type": "code",
   "execution_count": 1,
   "id": "05d248ef-46e7-4fca-a6c0-ba4ea341c7f6",
   "metadata": {},
   "outputs": [],
   "source": [
    "#Assignment {file and exceptional handling}\n",
    "#1).Discuss the scenarios where multithreading is preferable to multiprocessing and scenarios where multiprocessing is a better choice.\n",
    "#1. Multithreading is preferable when:\n",
    "#Tasks are I/O-bound (e.g., waiting for user input, file reading/writing, network calls).\n",
    "#The program spends a lot of time waiting for external resources.\n",
    "#You need to share memory between threads easily without too much overhead.\n",
    "#You want to avoid the overhead of starting separate processes.\n"
   ]
  },
  {
   "cell_type": "code",
   "execution_count": 3,
   "id": "94520fcf-6fc3-4a02-bede-00865c2c95a8",
   "metadata": {},
   "outputs": [
    {
     "name": "stdout",
     "output_type": "stream",
     "text": [
      "Squares: [1, 4, 9, 16, 25]\n"
     ]
    }
   ],
   "source": [
    "#2).Describe what a process pool is and how it helps in managing multiple processes efficiently.\n",
    "#A process pool is a way to manage and run multiple processes efficiently by reusing a fixed number of worker processes. Instead of creating a new process for every task, which can be slow and use up a lot of resources, a pool of worker processes is created at the start, and tasks are assigned to these workers as needed.\n",
    "#It is usefull in various ways such as \n",
    "#Efficient resource usage\n",
    "#Easier to manage\n",
    "#Parallel execution\n",
    "import multiprocessing\n",
    "\n",
    "def square_number(n):\n",
    "    return n * n\n",
    "\n",
    "if __name__ == \"__main__\":\n",
    "    numbers = [1, 2, 3, 4, 5]\n",
    "    \n",
    "    # Create a process pool with 3 workers\n",
    "    with multiprocessing.Pool(processes=3) as pool:\n",
    "        # Use the pool to calculate squares in parallel\n",
    "        results = pool.map(square_number, numbers)\n",
    "\n",
    "    print(\"Squares:\", results)\n"
   ]
  },
  {
   "cell_type": "code",
   "execution_count": 4,
   "id": "8869c6ec-d6cb-41fb-8a56-5dbf9eed81a1",
   "metadata": {},
   "outputs": [
    {
     "name": "stdout",
     "output_type": "stream",
     "text": [
      "Word lengths: [5, 6, 6, 4, 10]\n"
     ]
    }
   ],
   "source": [
    "#3). Explain what multiprocessing is and why it is used in Python programs\n",
    "#Multiprocessing is a technique in programming that allows a program to run multiple processes simultaneously, each on a different CPU core or processor.\n",
    "#Each process operates independently and has its own memory space. \n",
    "#In Python, the multiprocessing module provides support for creating multiple processes to achieve parallel execution.\n",
    "#Bypassing the Global Interpreter Lock (GIL)\n",
    "#Parallel execution of CPU-bound tasks\n",
    "#Full utilization of multiple cores\n",
    "import multiprocessing\n",
    "\n",
    "def word_length(word):\n",
    "    return len(word)\n",
    "\n",
    "if __name__ == \"__main__\":\n",
    "    words = [\"apple\", \"banana\", \"cherry\", \"date\", \"elderberry\"]\n",
    "    \n",
    "    # Create a process pool to calculate word lengths in parallel\n",
    "    with multiprocessing.Pool() as pool:\n",
    "        lengths = pool.map(word_length, words)\n",
    "\n",
    "    print(\"Word lengths:\", lengths)"
   ]
  },
  {
   "cell_type": "code",
   "execution_count": 5,
   "id": "0a50c313-873b-4431-ac97-5840bd97b981",
   "metadata": {},
   "outputs": [
    {
     "name": "stdout",
     "output_type": "stream",
     "text": [
      "Added 0\n",
      "Removed 0\n",
      "Added 1\n",
      "Added 2\n",
      "Removed 1\n",
      "Added 3\n",
      "Removed 2\n",
      "Added 4\n",
      "Removed 3\n",
      "Removed 4\n",
      "Final list: []\n"
     ]
    }
   ],
   "source": [
    "#4). Write a Python program using multithreading where one thread adds numbers to a list, and another \n",
    "#thread removes numbers from the list. Implement a mechanism to avoid race conditions using\n",
    "#threading.Lock.\n",
    "import threading\n",
    "import time\n",
    "\n",
    "# Shared list\n",
    "shared_list = []\n",
    "\n",
    "# Lock to prevent race conditions\n",
    "list_lock = threading.Lock()\n",
    "\n",
    "# Function to add numbers to the list\n",
    "def add_to_list():\n",
    "    for i in range(5):\n",
    "        time.sleep(1)  # Wait 1 second to simulate work\n",
    "        with list_lock:  # Ensure only one thread adds at a time\n",
    "            shared_list.append(i)\n",
    "            print(f\"Added {i}\")\n",
    "\n",
    "# Function to remove numbers from the list\n",
    "def remove_from_list():\n",
    "    for i in range(5):\n",
    "        time.sleep(1.5)  # Wait 1.5 seconds to simulate work\n",
    "        with list_lock:  # Ensure only one thread removes at a time\n",
    "            if shared_list:\n",
    "                removed = shared_list.pop(0)\n",
    "                print(f\"Removed {removed}\")\n",
    "\n",
    "# Create and start threads\n",
    "adder_thread = threading.Thread(target=add_to_list)\n",
    "remover_thread = threading.Thread(target=remove_from_list)\n",
    "\n",
    "adder_thread.start()\n",
    "remover_thread.start()\n",
    "\n",
    "# Wait for both threads to finish\n",
    "adder_thread.join()\n",
    "remover_thread.join()\n",
    "\n",
    "print(\"Final list:\", shared_list)\n"
   ]
  },
  {
   "cell_type": "code",
   "execution_count": 6,
   "id": "46dfc659-6cc9-4dd7-91a0-8a46d03094c7",
   "metadata": {},
   "outputs": [],
   "source": [
    "#5). Describe the methods and tools available in Python for safely sharing data between threads and\n",
    "#processes\n",
    "#Sharing Data Between Threads\n",
    " #threading.Lock:\n",
    "    #Purpose: Prevents multiple threads from accessing shared data at the same time.\n",
    "     #How it Works: One thread acquires the lock before accessing shared data, and other threads must wait until the lock is released.\n",
    "import threading\n",
    "\n",
    "lock = threading.Lock()\n",
    "shared_data = []\n",
    "\n",
    "def modify_data():\n",
    "    with lock:\n",
    "        shared_data.append(1)\n"
   ]
  },
  {
   "cell_type": "code",
   "execution_count": 10,
   "id": "a39b584b-e3e4-4310-bdb9-d3d94c7b0cce",
   "metadata": {},
   "outputs": [],
   "source": [
    "#5b). threading.Condition:\n",
    "        #Purpose: Allows threads to wait for certain conditions to be met before proceeding.\n",
    "          #How it Works: Threads can notify each other about changes in shared data or wait for specific conditions.\n",
    " import threading\n",
    "\n",
    "condition = threading.Condition()\n",
    "shared_data = []\n",
    "\n",
    "def wait_for_data():\n",
    "    with condition:\n",
    "        condition.wait() \n",
    "        print(\"Data is available:\", shared_data)\n",
    "\n",
    "def notify_data():\n",
    "    with condition:\n",
    "        shared_data.append(1)\n",
    "        condition.notify()  \n",
    "\n",
    " \n",
    "        "
   ]
  },
  {
   "cell_type": "code",
   "execution_count": null,
   "id": "3f9f84ed-eafd-4139-9a01-82946f077815",
   "metadata": {},
   "outputs": [],
   "source": [
    "#5c). Sharing Data Between Processes\n",
    "#multiprocessing.Queue:\n",
    "\n",
    "     #Purpose: Allows processes to send data to each other.\n",
    "    #How it Works: Data is put into the queue by one process and can be retrieved by another process.\n",
    " from multiprocessing import Queue, Process\n",
    "\n",
    "def producer(queue):\n",
    "    queue.put('data')\n",
    "\n",
    "def consumer(queue):\n",
    "    data = queue.get()\n",
    "    print(\"Received data:\", data)\n",
    "\n",
    "if __name__ == '__main__':\n",
    "    queue = Queue()\n",
    "    p1 = Process(target=producer, args=(queue,))\n",
    "    p2 = Process(target=consumer, args=(queue,))\n",
    "    p1.start()\n",
    "    p2.start()\n",
    "    p1.join()\n",
    "    p2.join()\n",
    "   \n",
    "\n"
   ]
  },
  {
   "cell_type": "code",
   "execution_count": null,
   "id": "f86ca116-ab51-4ebd-ade9-6e2f9973dec9",
   "metadata": {},
   "outputs": [],
   "source": [
    "#5d). multiprocessing.Pipe:\n",
    "  #Purpose: Allows two processes to communicate directly.\n",
    "  #How it Works: One process writes to one end of the pipe, and another process reads from the other end.\n",
    "from multiprocessing import Pipe, Process\n",
    "\n",
    "def sender(pipe):\n",
    "    pipe.send('message')\n",
    "\n",
    "def receiver(pipe):\n",
    "    message = pipe.recv()\n",
    "    print(\"Received message:\", message)\n",
    "\n",
    "if __name__ == '__main__':\n",
    "    parent_conn, child_conn = Pipe()\n",
    "    p1 = Process(target=sender, args=(child_conn,))\n",
    "    p2 = Process(target=receiver, args=(parent_conn,))\n",
    "    p1.start()\n",
    "    p2.start()\n",
    "    p1.join()\n",
    "    p2.join()\n"
   ]
  },
  {
   "cell_type": "code",
   "execution_count": 11,
   "id": "de8e97ba-7099-44c1-961e-e88aafe35253",
   "metadata": {},
   "outputs": [
    {
     "name": "stdout",
     "output_type": "stream",
     "text": [
      "Caught division by zero error in thread.\n"
     ]
    }
   ],
   "source": [
    "#6). \n",
    "#Handling exceptions in concurrent programs is crucial because:\n",
    " #Avoid Crashes\n",
    "  #Maintain Stability\n",
    "  #Debugging\n",
    " #Techniques for Handling Exceptions in Concurrent Programs\n",
    "#1. Handling Exceptions in Threads\n",
    "#Use try and except blocks within the thread's target function to catch and handle exceptions.\n",
    "import threading\n",
    "\n",
    "def task():\n",
    "    try:\n",
    "        # Code that might raise an exception\n",
    "        result = 1 / 0  # This will raise a ZeroDivisionError\n",
    "    except ZeroDivisionError:\n",
    "        print(\"Caught division by zero error in thread.\")\n",
    "\n",
    "# Create and start a thread\n",
    "thread = threading.Thread(target=task)\n",
    "thread.start()\n",
    "thread.join()\n"
   ]
  },
  {
   "cell_type": "code",
   "execution_count": 13,
   "id": "b6fb2a34-07de-474d-a92e-65c5eb5bd15b",
   "metadata": {},
   "outputs": [],
   "source": [
    "#6b). 2Handling Exceptions in Processes\n",
    "   #Use try and except within the process's target function, similar to threads. You can also use multiprocessing's Pool and handle exceptions by checking results.\n",
    "    \n",
    "import multiprocessing\n",
    "\n",
    "def task():\n",
    "    try:\n",
    "        # Code that might raise an exception\n",
    "        result = 1 / 0  # This will raise a ZeroDivisionError\n",
    "    except ZeroDivisionError:\n",
    "        print(\"Caught division by zero error in process.\")\n",
    "    return \"Done\"\n",
    "\n",
    "if __name__ == \"__main__\":\n",
    "    # Create a process pool\n",
    "    with multiprocessing.Pool() as pool:\n",
    "        results = pool.map(task, range(1))  # Execute tasks in parallel\n",
    "\n",
    "    print(results)\n"
   ]
  },
  {
   "cell_type": "code",
   "execution_count": 14,
   "id": "9e22643b-2df2-4d6b-95db-6687b3c17ac3",
   "metadata": {},
   "outputs": [
    {
     "name": "stdout",
     "output_type": "stream",
     "text": [
      "Factorial of 1 is 1\n",
      "Factorial of 2 is 2\n",
      "Factorial of 3 is 6\n",
      "Factorial of 4 is 24\n",
      "Factorial of 5 is 120\n",
      "Factorial of 6 is 720\n",
      "Factorial of 7 is 5040\n",
      "Factorial of 8 is 40320\n",
      "Factorial of 9 is 362880\n",
      "Factorial of 10 is 3628800\n"
     ]
    }
   ],
   "source": [
    "#7. Create a program that uses a thread pool to calculate the factorial of numbers from 1 to 10 concurrently.\n",
    "  #Use concurrent.futures.ThreadPoolExecutor to manage the threads.\n",
    "\n",
    "import concurrent.futures\n",
    "import math\n",
    "\n",
    "# Function to calculate factorial\n",
    "def factorial(n):\n",
    "    return math.factorial(n)\n",
    "\n",
    "# List of numbers to calculate factorial\n",
    "numbers = list(range(1, 11))\n",
    "\n",
    "# Use ThreadPoolExecutor to manage threads\n",
    "with concurrent.futures.ThreadPoolExecutor() as executor:\n",
    "    # Map the factorial function to the numbers\n",
    "    results = executor.map(factorial, numbers)\n",
    "\n",
    "# Print the results\n",
    "for number, result in zip(numbers, results):\n",
    "    print(f\"Factorial of {number} is {result}\")\n",
    "    "
   ]
  },
  {
   "cell_type": "code",
   "execution_count": 15,
   "id": "0edb385b-8d18-4894-95f9-b07a45f959cd",
   "metadata": {},
   "outputs": [
    {
     "name": "stdout",
     "output_type": "stream",
     "text": [
      "Pool size: 2\n",
      "Squares: [1, 4, 9, 16, 25, 36, 49, 64, 81, 100]\n",
      "Time taken: 0.0256 seconds\n",
      "------------------------------\n",
      "Pool size: 4\n",
      "Squares: [1, 4, 9, 16, 25, 36, 49, 64, 81, 100]\n",
      "Time taken: 0.0394 seconds\n",
      "------------------------------\n",
      "Pool size: 8\n",
      "Squares: [1, 4, 9, 16, 25, 36, 49, 64, 81, 100]\n",
      "Time taken: 0.0641 seconds\n",
      "------------------------------\n"
     ]
    }
   ],
   "source": [
    "#8. Create a Python program that uses multiprocessing.Pool to compute the square of numbers from 1 to 10 in\n",
    "   #parallel. Measure the time taken to perform this computation using a pool of different sizes (e.g., 2, 4, 8\n",
    "   #processes).\n",
    "import multiprocessing\n",
    "import time\n",
    "\n",
    "def square(n):\n",
    "    return n * n\n",
    "\n",
    "def measure_time(pool_size):\n",
    "    start_time = time.time()\n",
    "    \n",
    "    with multiprocessing.Pool(processes=pool_size) as pool:\n",
    "        results = pool.map(square, range(1, 11))\n",
    "    \n",
    "    end_time = time.time()\n",
    "    elapsed_time = end_time - start_time\n",
    "    return results, elapsed_time\n",
    "\n",
    "if __name__ == \"__main__\":\n",
    "    pool_sizes = [2, 4, 8]  # Different pool sizes to test\n",
    "    for size in pool_sizes:\n",
    "        results, elapsed_time = measure_time(size)\n",
    "        print(f\"Pool size: {size}\")\n",
    "        print(\"Squares:\", results)\n",
    "        print(f\"Time taken: {elapsed_time:.4f} seconds\")\n",
    "        print(\"-\" * 30)\n"
   ]
  },
  {
   "cell_type": "code",
   "execution_count": null,
   "id": "73757420-99be-4d46-aea9-22bd041d7281",
   "metadata": {},
   "outputs": [],
   "source": []
  },
  {
   "cell_type": "code",
   "execution_count": null,
   "id": "7d144887-b6f0-4102-9a17-ccd3ddb72079",
   "metadata": {},
   "outputs": [],
   "source": []
  },
  {
   "cell_type": "code",
   "execution_count": null,
   "id": "3a006059-3051-48b7-ac54-381b5a7fdfbc",
   "metadata": {},
   "outputs": [],
   "source": []
  }
 ],
 "metadata": {
  "kernelspec": {
   "display_name": "Python 3 (ipykernel)",
   "language": "python",
   "name": "python3"
  },
  "language_info": {
   "codemirror_mode": {
    "name": "ipython",
    "version": 3
   },
   "file_extension": ".py",
   "mimetype": "text/x-python",
   "name": "python",
   "nbconvert_exporter": "python",
   "pygments_lexer": "ipython3",
   "version": "3.10.8"
  }
 },
 "nbformat": 4,
 "nbformat_minor": 5
}
